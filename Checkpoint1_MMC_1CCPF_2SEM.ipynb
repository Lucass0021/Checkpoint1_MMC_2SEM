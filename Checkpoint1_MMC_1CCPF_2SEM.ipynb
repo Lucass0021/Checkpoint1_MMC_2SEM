{
  "nbformat": 4,
  "nbformat_minor": 0,
  "metadata": {
    "colab": {
      "provenance": [],
      "authorship_tag": "ABX9TyO9CY7AZMHwbOYUCM5GfJDa",
      "include_colab_link": true
    },
    "kernelspec": {
      "name": "python3",
      "display_name": "Python 3"
    },
    "language_info": {
      "name": "python"
    }
  },
  "cells": [
    {
      "cell_type": "markdown",
      "metadata": {
        "id": "view-in-github",
        "colab_type": "text"
      },
      "source": [
        "<a href=\"https://colab.research.google.com/github/Lucass0021/Checkpoint1_MMC_2SEM/blob/main/Checkpoint1_MMC_1CCPF_2SEM.ipynb\" target=\"_parent\"><img src=\"https://colab.research.google.com/assets/colab-badge.svg\" alt=\"Open In Colab\"/></a>"
      ]
    },
    {
      "cell_type": "markdown",
      "source": [
        "**Importando Bibliotecas**"
      ],
      "metadata": {
        "id": "Q2IGtWyDv06L"
      }
    },
    {
      "cell_type": "code",
      "execution_count": 1,
      "metadata": {
        "id": "S5Lpcx3Iu0Wm"
      },
      "outputs": [],
      "source": [
        "import sympy as sp\n",
        "import numpy as np"
      ]
    },
    {
      "cell_type": "markdown",
      "source": [
        "Integrantes do Grupo:\n",
        "\n",
        "*   Lucas Alves Antunes Almeida / RM: 566362\n",
        "*   Item da lista\n",
        "\n"
      ],
      "metadata": {
        "id": "WorsOKBx29Tw"
      }
    },
    {
      "cell_type": "markdown",
      "source": [
        "**Atividade Parte 1**"
      ],
      "metadata": {
        "id": "K5JiIMdMwDR1"
      }
    },
    {
      "cell_type": "markdown",
      "source": [
        "Ex. 1: Escolher uma propriedade de cada uma dessas seções: Arithmetic Operations, Exponent Properties, Properties of Radicals, Properties of Inequalities, Logarithm Properties. E verificá-las utilizando Python."
      ],
      "metadata": {
        "id": "y-94I73RwH_w"
      }
    },
    {
      "cell_type": "code",
      "source": [
        "# Arithmetc Operation\n",
        "\n",
        "# Definindo variáveis simbolicamente\n",
        "a, b, c = sp.symbols ('a b c')\n",
        "\n",
        "# Propriedade Aritmética\n",
        "expr1 = a*(b+c)\n",
        "expr2 = a*b + a*c\n",
        "\n",
        "print(\"Expressão 1: \", expr1)\n",
        "print(\"Expressão 2: \", expr2)\n",
        "\n",
        "# Verificando equivalência\n",
        "print(\"São iguais? \", expr1.equals(expr2))"
      ],
      "metadata": {
        "colab": {
          "base_uri": "https://localhost:8080/"
        },
        "id": "CTaKarSJwVHZ",
        "outputId": "d9c4ffa5-404f-4653-b376-325952c217f7"
      },
      "execution_count": 8,
      "outputs": [
        {
          "output_type": "stream",
          "name": "stdout",
          "text": [
            "Expressão 1:  a*(b + c)\n",
            "Expressão 2:  a*b + a*c\n",
            "São iguais?  True\n"
          ]
        }
      ]
    },
    {
      "cell_type": "code",
      "source": [
        "# Exponent Properties\n",
        "\n",
        "# Definindo variáveis simbolicamente\n",
        "a, m, n = sp.symbols('a m n')\n",
        "\n",
        "# Propriedade Exponencial\n",
        "expr1 = (a**n)*(a**m)\n",
        "expr2 = a**(m+n)\n",
        "\n",
        "print(\"Expressão 1: \", expr1)\n",
        "print(\"Expressão 2: \", expr2)\n",
        "\n",
        "# Verificando equivalência\n",
        "print(\"São iguais? \", expr1.equals(expr2))"
      ],
      "metadata": {
        "colab": {
          "base_uri": "https://localhost:8080/"
        },
        "id": "_mxWi_beyMK6",
        "outputId": "f21cfd5b-2328-41b7-ef9d-9ae1772cdbf0"
      },
      "execution_count": 11,
      "outputs": [
        {
          "output_type": "stream",
          "name": "stdout",
          "text": [
            "Expressão 1:  a**m*a**n\n",
            "Expressão 2:  a**(m + n)\n",
            "São iguais?  True\n"
          ]
        }
      ]
    },
    {
      "cell_type": "code",
      "source": [
        "# Properties of Radicals\n",
        "\n",
        "# Definindo variáveis simbolicamente\n",
        "a, b = sp.symbols('a b', positive = True)\n",
        "\n",
        "# Propriedade Radical\n",
        "expr1 = sp.sqrt(a*b)\n",
        "expr2 = (sp.sqrt(a))*(sp.sqrt(b))\n",
        "\n",
        "print(\"Expressão 1: \", expr1)\n",
        "print(\"Expressão 2: \", expr2)\n",
        "\n",
        "# Verificando equivalência\n",
        "print(\"São iguais? \", expr1.equals(expr2))"
      ],
      "metadata": {
        "colab": {
          "base_uri": "https://localhost:8080/"
        },
        "id": "0ThVL0sxzRoT",
        "outputId": "acb02693-f491-49ed-e70c-8ae7e2326d11"
      },
      "execution_count": 13,
      "outputs": [
        {
          "output_type": "stream",
          "name": "stdout",
          "text": [
            "Expressão 1:  sqrt(a)*sqrt(b)\n",
            "Expressão 2:  sqrt(a)*sqrt(b)\n",
            "São iguais?  True\n"
          ]
        }
      ]
    },
    {
      "cell_type": "code",
      "source": [
        "# Properties of Inequalities\n",
        "\n",
        "# Definindo variáveis simbolicamente (positivas)\n",
        "a, b, c = sp.symbols('a b c', real=True)\n",
        "\n",
        "# Definição da desigualdade inicial\n",
        "ineq1 = sp.Lt(a, b)\n",
        "\n",
        "# Desigualdades derivadas\n",
        "ineq2 = sp.Lt(a + c, b + c)\n",
        "ineq3 = sp.Lt(a - c, b - c)\n",
        "\n",
        "print(\"Se a < b, então a + c < b + c ?\", sp.Implies(ineq1, ineq2))\n",
        "print(\"Se a < b, então a - c < b - c ?\", sp.Implies(ineq1, ineq3))"
      ],
      "metadata": {
        "colab": {
          "base_uri": "https://localhost:8080/"
        },
        "id": "8Ub8Z84x0Idw",
        "outputId": "26331953-f2db-45a7-c26a-c49858ccda07"
      },
      "execution_count": 17,
      "outputs": [
        {
          "output_type": "stream",
          "name": "stdout",
          "text": [
            "Se a < b, então a + c < b + c ? Implies(a < b, a + c < b + c)\n",
            "Se a < b, então a - c < b - c ? Implies(a < b, a - c < b - c)\n"
          ]
        }
      ]
    },
    {
      "cell_type": "code",
      "source": [
        "# Logarithms Properties\n",
        "\n",
        "# Definindo variáveis simbolicamente (positivas)\n",
        "a, b = sp.symbols('a b', positive = True)\n",
        "\n",
        "# Propriedade Logarítimica\n",
        "expr1 = sp.log(a*b)\n",
        "expr2 = sp.log(a) + sp.log(b)\n",
        "\n",
        "print(\"Expressão 1: \", expr1)\n",
        "print(\"Expressão 2: \", expr2)\n",
        "\n",
        "# Verificando Equivalência\n",
        "print(\"São iguais? \", expr1.equals(expr2))"
      ],
      "metadata": {
        "colab": {
          "base_uri": "https://localhost:8080/"
        },
        "id": "hlfRBeIK0dIf",
        "outputId": "e7f3b408-9d40-49cf-b246-cfcd2bb71a61"
      },
      "execution_count": 19,
      "outputs": [
        {
          "output_type": "stream",
          "name": "stdout",
          "text": [
            "Expressão 1:  log(a*b)\n",
            "Expressão 2:  log(a) + log(b)\n",
            "São iguais?  True\n"
          ]
        }
      ]
    },
    {
      "cell_type": "markdown",
      "source": [
        "Ex. 2: Escolher 3 erros algébricos comuns e verificá-los utilizando Python."
      ],
      "metadata": {
        "id": "6g4JLwWa2bu0"
      }
    },
    {
      "cell_type": "code",
      "source": [],
      "metadata": {
        "id": "jcyhCIt_2o0T"
      },
      "execution_count": null,
      "outputs": []
    }
  ]
}