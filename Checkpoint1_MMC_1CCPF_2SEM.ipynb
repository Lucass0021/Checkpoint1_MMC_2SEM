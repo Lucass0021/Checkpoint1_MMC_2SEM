{
  "nbformat": 4,
  "nbformat_minor": 0,
  "metadata": {
    "colab": {
      "provenance": [],
      "include_colab_link": true
    },
    "kernelspec": {
      "name": "python3",
      "display_name": "Python 3"
    },
    "language_info": {
      "name": "python"
    }
  },
  "cells": [
    {
      "cell_type": "markdown",
      "metadata": {
        "id": "view-in-github",
        "colab_type": "text"
      },
      "source": [
        "<a href=\"https://colab.research.google.com/github/Lucass0021/Checkpoint1_MMC_2SEM/blob/main/Checkpoint1_MMC_1CCPF_2SEM.ipynb\" target=\"_parent\"><img src=\"https://colab.research.google.com/assets/colab-badge.svg\" alt=\"Open In Colab\"/></a>"
      ]
    },
    {
      "cell_type": "markdown",
      "source": [
        "**Importando Bibliotecas**"
      ],
      "metadata": {
        "id": "Q2IGtWyDv06L"
      }
    },
    {
      "cell_type": "code",
      "execution_count": null,
      "metadata": {
        "id": "S5Lpcx3Iu0Wm"
      },
      "outputs": [],
      "source": [
        "import sympy as sp\n",
        "import numpy as np"
      ]
    },
    {
      "cell_type": "markdown",
      "source": [
        "Integrantes do Grupo:\n",
        "\n",
        "*   Lucas Alves Antunes Almeida / RM: 566362\n",
        "*   Lucas Werpp Franco / RM: 556044\n",
        "\n"
      ],
      "metadata": {
        "id": "WorsOKBx29Tw"
      }
    },
    {
      "cell_type": "markdown",
      "source": [
        "**Atividade Parte 1**"
      ],
      "metadata": {
        "id": "K5JiIMdMwDR1"
      }
    },
    {
      "cell_type": "markdown",
      "source": [
        "Ex. 1: Escolher uma propriedade de cada uma dessas seções: Arithmetic Operations, Exponent Properties, Properties of Radicals, Properties of Inequalities, Logarithm Properties. E verificá-las utilizando Python."
      ],
      "metadata": {
        "id": "y-94I73RwH_w"
      }
    },
    {
      "cell_type": "code",
      "source": [
        "# Arithmetc Operation\n",
        "\n",
        "# Definindo variáveis simbolicamente\n",
        "a, b, c = sp.symbols ('a b c')\n",
        "\n",
        "# Propriedade Aritmética\n",
        "expr1 = a*(b+c)\n",
        "expr2 = a*b + a*c\n",
        "\n",
        "print(\"Expressão 1: \", expr1)\n",
        "print(\"Expressão 2: \", expr2)\n",
        "\n",
        "# Verificando equivalência\n",
        "print(\"São iguais? \", expr1.equals(expr2))"
      ],
      "metadata": {
        "colab": {
          "base_uri": "https://localhost:8080/"
        },
        "id": "CTaKarSJwVHZ",
        "outputId": "d9c4ffa5-404f-4653-b376-325952c217f7"
      },
      "execution_count": null,
      "outputs": [
        {
          "output_type": "stream",
          "name": "stdout",
          "text": [
            "Expressão 1:  a*(b + c)\n",
            "Expressão 2:  a*b + a*c\n",
            "São iguais?  True\n"
          ]
        }
      ]
    },
    {
      "cell_type": "code",
      "source": [
        "# Exponent Properties\n",
        "\n",
        "# Definindo variáveis simbolicamente\n",
        "a, m, n = sp.symbols('a m n')\n",
        "\n",
        "# Propriedade Exponencial\n",
        "expr1 = (a**n)*(a**m)\n",
        "expr2 = a**(m+n)\n",
        "\n",
        "print(\"Expressão 1: \", expr1)\n",
        "print(\"Expressão 2: \", expr2)\n",
        "\n",
        "# Verificando equivalência\n",
        "print(\"São iguais? \", expr1.equals(expr2))"
      ],
      "metadata": {
        "colab": {
          "base_uri": "https://localhost:8080/"
        },
        "id": "_mxWi_beyMK6",
        "outputId": "f21cfd5b-2328-41b7-ef9d-9ae1772cdbf0"
      },
      "execution_count": null,
      "outputs": [
        {
          "output_type": "stream",
          "name": "stdout",
          "text": [
            "Expressão 1:  a**m*a**n\n",
            "Expressão 2:  a**(m + n)\n",
            "São iguais?  True\n"
          ]
        }
      ]
    },
    {
      "cell_type": "code",
      "source": [
        "# Properties of Radicals\n",
        "\n",
        "# Definindo variáveis simbolicamente\n",
        "a, b = sp.symbols('a b', positive = True)\n",
        "\n",
        "# Propriedade Radical\n",
        "expr1 = sp.sqrt(a*b)\n",
        "expr2 = (sp.sqrt(a))*(sp.sqrt(b))\n",
        "\n",
        "print(\"Expressão 1: \", expr1)\n",
        "print(\"Expressão 2: \", expr2)\n",
        "\n",
        "# Verificando equivalência\n",
        "print(\"São iguais? \", expr1.equals(expr2))"
      ],
      "metadata": {
        "colab": {
          "base_uri": "https://localhost:8080/"
        },
        "id": "0ThVL0sxzRoT",
        "outputId": "acb02693-f491-49ed-e70c-8ae7e2326d11"
      },
      "execution_count": null,
      "outputs": [
        {
          "output_type": "stream",
          "name": "stdout",
          "text": [
            "Expressão 1:  sqrt(a)*sqrt(b)\n",
            "Expressão 2:  sqrt(a)*sqrt(b)\n",
            "São iguais?  True\n"
          ]
        }
      ]
    },
    {
      "cell_type": "code",
      "source": [
        "# Properties of Inequalities\n",
        "\n",
        "# Definindo variáveis simbolicamente (positivas)\n",
        "a, b, c = sp.symbols('a b c', real=True)\n",
        "\n",
        "# Definição da desigualdade inicial\n",
        "ineq1 = sp.Lt(a, b)\n",
        "\n",
        "# Desigualdades derivadas\n",
        "ineq2 = sp.Lt(a + c, b + c)\n",
        "ineq3 = sp.Lt(a - c, b - c)\n",
        "\n",
        "print(\"Se a < b, então a + c < b + c ?\", sp.Implies(ineq1, ineq2))\n",
        "print(\"Se a < b, então a - c < b - c ?\", sp.Implies(ineq1, ineq3))"
      ],
      "metadata": {
        "colab": {
          "base_uri": "https://localhost:8080/"
        },
        "id": "8Ub8Z84x0Idw",
        "outputId": "26331953-f2db-45a7-c26a-c49858ccda07"
      },
      "execution_count": null,
      "outputs": [
        {
          "output_type": "stream",
          "name": "stdout",
          "text": [
            "Se a < b, então a + c < b + c ? Implies(a < b, a + c < b + c)\n",
            "Se a < b, então a - c < b - c ? Implies(a < b, a - c < b - c)\n"
          ]
        }
      ]
    },
    {
      "cell_type": "code",
      "source": [
        "# Logarithms Properties\n",
        "\n",
        "# Definindo variáveis simbolicamente (positivas)\n",
        "a, b = sp.symbols('a b', positive = True)\n",
        "\n",
        "# Propriedade Logarítimica\n",
        "expr1 = sp.log(a*b)\n",
        "expr2 = sp.log(a) + sp.log(b)\n",
        "\n",
        "print(\"Expressão 1: \", expr1)\n",
        "print(\"Expressão 2: \", expr2)\n",
        "\n",
        "# Verificando Equivalência\n",
        "print(\"São iguais? \", expr1.equals(expr2))"
      ],
      "metadata": {
        "colab": {
          "base_uri": "https://localhost:8080/"
        },
        "id": "hlfRBeIK0dIf",
        "outputId": "e7f3b408-9d40-49cf-b246-cfcd2bb71a61"
      },
      "execution_count": null,
      "outputs": [
        {
          "output_type": "stream",
          "name": "stdout",
          "text": [
            "Expressão 1:  log(a*b)\n",
            "Expressão 2:  log(a) + log(b)\n",
            "São iguais?  True\n"
          ]
        }
      ]
    },
    {
      "cell_type": "markdown",
      "source": [
        "Ex. 2: Escolher 3 erros algébricos comuns e verificá-los utilizando Python."
      ],
      "metadata": {
        "id": "6g4JLwWa2bu0"
      }
    },
    {
      "cell_type": "code",
      "source": [
        "a, b, x = sp.symbols('a b x', real=True)\n",
        "\n",
        "print(\"Erro 4 - Distribuição com sinal negativo:\")\n",
        "errado4 = -a*x - a\n",
        "correto4 = -a*(x - 1)\n",
        "print(f\"Incorreto: -a(x - 1) = {errado4}\")\n",
        "print(f\"Correto: -a(x - 1) = {correto4} = {sp.expand(correto4)}\\n\")\n",
        "\n",
        "print(\"Erro 5 - Cancelamento:\")\n",
        "errado5 = 1 + b*x/a\n",
        "correto5 = (a + b*x)/a\n",
        "print(f\"Incorreto: (a + bx)/a = {errado5}\")\n",
        "print(f\"Correto: (a + bx)/a = {correto5} = {sp.simplify(correto5)}\\n\")\n",
        "\n",
        "print(\"Erro 6 - Soma de frações:\")\n",
        "errado6 = 1/1 + 1/1\n",
        "correto6 = 1/2\n",
        "print(f\"Incorreto: 1/2 = {errado6}\")\n",
        "print(f\"Correto: 1/2 = {correto6}\\n\")"
      ],
      "metadata": {
        "id": "jcyhCIt_2o0T",
        "outputId": "376bb855-6ad7-41ad-b515-cd4202c70a06",
        "colab": {
          "base_uri": "https://localhost:8080/"
        }
      },
      "execution_count": null,
      "outputs": [
        {
          "output_type": "stream",
          "name": "stdout",
          "text": [
            "Erro 4 - Distribuição com sinal negativo:\n",
            "Incorreto: -a(x - 1) = -a*x - a\n",
            "Correto: -a(x - 1) = -a*(x - 1) = -a*x + a\n",
            "\n",
            "Erro 5 - Cancelamento:\n",
            "Incorreto: (a + bx)/a = 1 + b*x/a\n",
            "Correto: (a + bx)/a = (a + b*x)/a = (a + b*x)/a\n",
            "\n",
            "Erro 6 - Soma de frações:\n",
            "Incorreto: 1/2 = 2.0\n",
            "Correto: 1/2 = 0.5\n",
            "\n"
          ]
        }
      ]
    },
    {
      "cell_type": "markdown",
      "source": [
        "Atividade Parte 2."
      ],
      "metadata": {
        "id": "R4qebAcjI6RU"
      }
    },
    {
      "cell_type": "markdown",
      "source": [
        "Pergunta 3 (3 pontos) – Verifique essas propriedades utilizando numpy (numérico). Gere vetores numéricos e verifique as igualdades do slide anterior.\n",
        "\n",
        "Definir vetores arbitrariamente. Podem ser aleatórios."
      ],
      "metadata": {
        "id": "64aD5fvgI7eq"
      }
    },
    {
      "cell_type": "markdown",
      "source": [
        "Associatividade da adição."
      ],
      "metadata": {
        "id": "91K0cBh8I8h3"
      }
    },
    {
      "cell_type": "code",
      "source": [
        "a, b, c = np.random.randint(-9, 10), np.random.randint(-9, 10), np.random.randint(-9, 10)\n",
        "\n",
        "print(f\"Exemplo: ({a} + {b}) + {c} = {a} + ({b} + {c})\")\n",
        "lado_esquerdo = (a + b) + c\n",
        "lado_direito = a + (b + c)\n",
        "print(f\"→ {lado_esquerdo} = {lado_direito}   {(lado_esquerdo == lado_direito)}\\n\")"
      ],
      "metadata": {
        "id": "dL3vFNx7I-re"
      },
      "execution_count": null,
      "outputs": []
    },
    {
      "cell_type": "markdown",
      "source": [
        "Comutatividade da adição."
      ],
      "metadata": {
        "id": "8uLjwIGjJANm"
      }
    },
    {
      "cell_type": "code",
      "source": [
        "a, b = np.random.randint(-9, 10), np.random.randint(-9, 10)\n",
        "\n",
        "print(f\"Exemplo: {a} + {b} = {b} + {a}\")\n",
        "\n",
        "lado_esquerdo = a + b\n",
        "lado_direito = b + a\n",
        "print(f\"→ {lado_direito} = {lado_esquerdo} {(lado_esquerdo == lado_direito)}\\n\")"
      ],
      "metadata": {
        "id": "OyLDxcuRJB8T"
      },
      "execution_count": null,
      "outputs": []
    },
    {
      "cell_type": "markdown",
      "source": [
        "Elemento identidade da adição."
      ],
      "metadata": {
        "id": "3xT5lQLfJDQX"
      }
    },
    {
      "cell_type": "code",
      "source": [
        "a, b = np.random.randint(-9, 10), 0\n",
        "\n",
        "print(f\"Exemplo: {a} + {b} = {a}\")\n",
        "\n",
        "lado_esquerdo = a + b\n",
        "lado_direito = a\n",
        "\n",
        "print(f\"→ {lado_direito} = {lado_esquerdo} {(lado_esquerdo == lado_direito)}\\n\")"
      ],
      "metadata": {
        "id": "COGvIVUzJEcY"
      },
      "execution_count": null,
      "outputs": []
    },
    {
      "cell_type": "markdown",
      "source": [
        "Elemento inverso da adição."
      ],
      "metadata": {
        "id": "QCgYMo-NJFyG"
      }
    },
    {
      "cell_type": "code",
      "source": [
        "a = np.random.randint(-9, 10)\n",
        "b = a\n",
        "\n",
        "print(f\"Exemplo: {a} + {-b} = {0}\")\n",
        "\n",
        "lado_esquerdo = a + (-b)\n",
        "lado_direito = 0\n",
        "\n",
        "print(f\"→ {lado_direito} = {lado_esquerdo} {(lado_esquerdo == lado_direito)}\\n\")"
      ],
      "metadata": {
        "id": "yrYgQcf8JG-9"
      },
      "execution_count": null,
      "outputs": []
    },
    {
      "cell_type": "markdown",
      "source": [
        "Compatibilidade da multiplicação por escalar com a multiplicação do corpo."
      ],
      "metadata": {
        "id": "a_RY2lpIJIbi"
      }
    },
    {
      "cell_type": "code",
      "source": [
        "a, b, c = np.random.randint(-9, 10), np.random.randint(-9, 10), np.random.randint(-9, 10)\n",
        "\n",
        "print(f\"Exemplo: {a} x ({b} x {c}) = ({a} x {b}) x {c}\")\n",
        "\n",
        "lado_esquerdo = a * (b * c)\n",
        "lado_direito = (a * b) * c\n",
        "\n",
        "print(f\"→ {lado_esquerdo} = {lado_direito}   {(lado_esquerdo == lado_direito)}\\n\")"
      ],
      "metadata": {
        "id": "io8QQ8O6JJgR"
      },
      "execution_count": null,
      "outputs": []
    },
    {
      "cell_type": "markdown",
      "source": [
        "Elemento identidade da multiplicação por escalar."
      ],
      "metadata": {
        "id": "m2YtdHmLJKux"
      }
    },
    {
      "cell_type": "code",
      "source": [
        "a, b = np.random.randint(-9, 10), 1\n",
        "\n",
        "print(f\"Exemplo: {a} * {b} = {a}\")\n",
        "\n",
        "lado_esquerdo = a * b\n",
        "lado_direito = a\n",
        "\n",
        "print(f\"→ {lado_direito} = {lado_esquerdo} {(lado_esquerdo == lado_direito)}\\n\")"
      ],
      "metadata": {
        "id": "D0R4SWxHJLxs"
      },
      "execution_count": null,
      "outputs": []
    },
    {
      "cell_type": "markdown",
      "source": [
        "Distributividade da multiplicação por escalar em relação à adição de vetores."
      ],
      "metadata": {
        "id": "_5CGSbZnJM-0"
      }
    },
    {
      "cell_type": "code",
      "source": [
        "a, b, c = np.random.randint(-9, 10), np.random.randint(-9, 10), np.random.randint(-9, 10)\n",
        "\n",
        "print(f\"Exemplo: {a} x ({b} + {c}) = {a} x {b} + {a} x {c}\")\n",
        "\n",
        "lado_esquerdo = a * (b + c)\n",
        "lado_direito = a * b + a * c\n",
        "\n",
        "print(f\"→ {lado_direito} = {lado_esquerdo} {(lado_esquerdo == lado_direito)}\\n\")"
      ],
      "metadata": {
        "id": "hPd3hv2nJN_r"
      },
      "execution_count": null,
      "outputs": []
    },
    {
      "cell_type": "markdown",
      "source": [
        "Distributividade da multiplicação por escalar em relação a adição do corpo."
      ],
      "metadata": {
        "id": "PM23hWmmJPoj"
      }
    },
    {
      "cell_type": "code",
      "source": [
        "a, b, c = np.random.randint(-9, 10), np.random.randint(-9, 10), np.random.randint(-9, 10)\n",
        "\n",
        "print(f\"Exemplo: ({a} + {b}) x {c} = {a} x {c} + {b} x {c}\")\n",
        "\n",
        "lado_esquerdo = (a + b) * c\n",
        "lado_direito = a * c + b * c\n",
        "\n",
        "print(f\"→ {lado_direito} = {lado_esquerdo} {(lado_esquerdo == lado_direito)}\\n\")"
      ],
      "metadata": {
        "id": "i41ERpsjJQ-3"
      },
      "execution_count": null,
      "outputs": []
    }
  ]
}