{
  "nbformat": 4,
  "nbformat_minor": 0,
  "metadata": {
    "colab": {
      "provenance": [],
      "include_colab_link": true
    },
    "kernelspec": {
      "name": "python3",
      "display_name": "Python 3"
    },
    "language_info": {
      "name": "python"
    }
  },
  "cells": [
    {
      "cell_type": "markdown",
      "metadata": {
        "id": "view-in-github",
        "colab_type": "text"
      },
      "source": [
        "<a href=\"https://colab.research.google.com/github/Lucass0021/Checkpoint1_MMC_2SEM/blob/main/1Checkpoint_ModelagemMatem%C3%A1tica_Semestre2.ipynb\" target=\"_parent\"><img src=\"https://colab.research.google.com/assets/colab-badge.svg\" alt=\"Open In Colab\"/></a>"
      ]
    },
    {
      "cell_type": "markdown",
      "source": [
        "**Importando Bibliotecas**"
      ],
      "metadata": {
        "id": "Q2IGtWyDv06L"
      }
    },
    {
      "cell_type": "code",
      "execution_count": null,
      "metadata": {
        "id": "S5Lpcx3Iu0Wm"
      },
      "outputs": [],
      "source": [
        "import sympy as sp\n",
        "import numpy as np"
      ]
    },
    {
      "cell_type": "markdown",
      "source": [
        "Integrantes do Grupo:\n",
        "\n",
        "*   Massayoshi Bando Fogaça e Silva | RM: 561779\n",
        "*   Nome | RM:\n",
        "\n"
      ],
      "metadata": {
        "id": "WorsOKBx29Tw"
      }
    },
    {
      "cell_type": "markdown",
      "source": [
        "**Atividade Parte 1**"
      ],
      "metadata": {
        "id": "K5JiIMdMwDR1"
      }
    },
    {
      "cell_type": "markdown",
      "source": [
        "Pergunta 1 (2 pontos): Escolher uma propriedade de cada uma dessas seções: Arithmetic Operations, Exponent Properties, Properties of Radicals, Properties of Inequalities, Logarithm Properties (5 no total) e verificá-las utilizando Python."
      ],
      "metadata": {
        "id": "y-94I73RwH_w"
      }
    },
    {
      "cell_type": "code",
      "source": [
        "# Arithmetc Operation\n",
        "\n",
        "a, b, c, d = sp.symbols('a b c d', nonzero=True)\n",
        "\n",
        "ex_1 = a/b + c/d\n",
        "ex_2 = (a*d + b*c)/(b*d)\n",
        "\n",
        "print(f\"Primeira Expressão: {ex_1}\")\n",
        "print(f\"Segunda Expressão: {ex_2}\")\n",
        "print(\"As expressões são equivalentes? \", ex_1.equals(ex_2))"
      ],
      "metadata": {
        "colab": {
          "base_uri": "https://localhost:8080/"
        },
        "id": "CTaKarSJwVHZ",
        "outputId": "fa88ead6-bb62-4a0b-ee94-68ec46ababe6"
      },
      "execution_count": null,
      "outputs": [
        {
          "output_type": "stream",
          "name": "stdout",
          "text": [
            "Primeira Expressão: a/b + c/d\n",
            "Segunda Expressão: (a*d + b*c)/(b*d)\n",
            "As expressões são equivalentes?  True\n"
          ]
        }
      ]
    },
    {
      "cell_type": "code",
      "source": [
        "# Exponent Properties\n",
        "\n",
        "a, m, n = sp.symbols('a m n', positive=True)\n",
        "\n",
        "ex_1 = (a**m)**n\n",
        "ex_2 = a**(m*n)\n",
        "\n",
        "print(f\"Primeira Expressão: {ex_1}\")\n",
        "print(f\"Segunda Expressão: {ex_2}\")\n",
        "print(\"As expressões são equivalentes?\", ex_1.equals(ex_2))\n"
      ],
      "metadata": {
        "colab": {
          "base_uri": "https://localhost:8080/"
        },
        "id": "_mxWi_beyMK6",
        "outputId": "e7893a35-484b-491a-cfd5-9e2f79f562ac"
      },
      "execution_count": null,
      "outputs": [
        {
          "output_type": "stream",
          "name": "stdout",
          "text": [
            "Primeira Expressão: a**(m*n)\n",
            "Segunda Expressão: a**(m*n)\n",
            "As expressões são equivalentes? True\n"
          ]
        }
      ]
    },
    {
      "cell_type": "code",
      "source": [
        "# Properties of Radicals\n",
        "\n",
        "a, m, n = sp.symbols('a m n', positive=True)\n",
        "\n",
        "ex_1 = sp.root(sp.root(a, n), m)\n",
        "ex_2 = sp.root(a, m*n)\n",
        "\n",
        "print(f\"Primeira Expressão: {ex_1}\")\n",
        "print(f\"Segunda Expressão: {ex_2}\")\n",
        "print(f\"As expressões são iguais? \", ex_1.equals(ex_2))"
      ],
      "metadata": {
        "colab": {
          "base_uri": "https://localhost:8080/"
        },
        "id": "0ThVL0sxzRoT",
        "outputId": "5c1f4be2-16f2-411e-d2ba-33d82668baae"
      },
      "execution_count": null,
      "outputs": [
        {
          "output_type": "stream",
          "name": "stdout",
          "text": [
            "Primeira Expressão: a**(1/(m*n))\n",
            "Segunda Expressão: a**(1/(m*n))\n",
            "As expressões são iguais?  True\n"
          ]
        }
      ]
    },
    {
      "cell_type": "code",
      "source": [
        "# Properties of Inequalities\n",
        "\n",
        "a, b, c = sp.symbols('a b c', real=True)\n",
        "\n",
        "ineq1 = sp.Lt(a, b)      # a < b\n",
        "cond = sp.Gt(c, 0)       # c > 0\n",
        "ineq2 = sp.Lt(a*c, b*c)  # ac < bc\n",
        "\n",
        "print(\"Se a < b e c > 0, então ac < bc ?\", sp.Implies(sp.And(ineq1, cond), ineq2))"
      ],
      "metadata": {
        "colab": {
          "base_uri": "https://localhost:8080/"
        },
        "id": "8Ub8Z84x0Idw",
        "outputId": "a9688138-78d3-40e3-fd84-af3e425767b9"
      },
      "execution_count": null,
      "outputs": [
        {
          "output_type": "stream",
          "name": "stdout",
          "text": [
            "Se a < b e c > 0, então ac < bc ? Implies((c > 0) & (a < b), a*c < b*c)\n"
          ]
        }
      ]
    },
    {
      "cell_type": "code",
      "source": [
        "# Logarithms Properties\n",
        "\n",
        "a, b = sp.symbols('a b', positive=True)\n",
        "\n",
        "ex_1 = sp.log(a/b)\n",
        "ex_2 = sp.log(a) - sp.log(b)\n",
        "\n",
        "print(f\"Primeira Expressão: {ex_1}\")\n",
        "print(f\"Segunda Expressão: {ex_2}\")\n",
        "print(\"As expressões são iguais? \", ex_1.equals(ex_2))"
      ],
      "metadata": {
        "colab": {
          "base_uri": "https://localhost:8080/"
        },
        "id": "hlfRBeIK0dIf",
        "outputId": "ec540b24-1e9e-43f7-a4ec-86de2fb21509"
      },
      "execution_count": null,
      "outputs": [
        {
          "output_type": "stream",
          "name": "stdout",
          "text": [
            "Primeira Expressão: log(a/b)\n",
            "Segunda Expressão: log(a) - log(b)\n",
            "As expressões são iguais?  True\n"
          ]
        }
      ]
    },
    {
      "cell_type": "markdown",
      "source": [
        "Pergunta 2 (2 pontos): Sobre o mesmo PDF, escolher 3 erros algébricos comuns (Common Algebraic Errors) e verificá-los utilizando Python."
      ],
      "metadata": {
        "id": "6g4JLwWa2bu0"
      }
    },
    {
      "cell_type": "code",
      "source": [
        "# Definindo símbolos\n",
        "x, a = sp.symbols('x a', real=True)\n",
        "\n",
        "# 1. Erro de potência\n",
        "errado1 = x**5\n",
        "correto1 = (x**2)**3\n",
        "print(\"Erro 1 - Potência:\")\n",
        "print(f\"Incorreto: (x^2)^3 = {errado1}\")\n",
        "print(f\"Correto: (x^2)^3 = {correto1} = {sp.simplify(correto1)}\\n\")\n",
        "\n",
        "# 2. Erro de distribuição\n",
        "errado2 = x**2 + a**2\n",
        "correto2 = (x + a)**2\n",
        "print(\"Erro 2 - Distribuição:\")\n",
        "print(f\"Incorreto: (x + a)^2 = {errado2}\")\n",
        "print(f\"Correto: (x + a)^2 = {correto2} = {sp.expand(correto2)}\\n\")\n",
        "\n",
        "# 3. Erro de radiciação (exemplo numérico)\n",
        "print(\"Erro 3 - Radiciação:\")\n",
        "val_x, val_a = 3, 4\n",
        "errado3 = val_x + val_a\n",
        "correto3 = sp.sqrt(val_x**2 + val_a**2)\n",
        "print(f\"Incorreto: √({val_x}^2 + {val_a}^2) = {errado3}\")\n",
        "print(f\"Correto: √({val_x}^2 + {val_a}^2) = {correto3}\\n\")\n"
      ],
      "metadata": {
        "id": "p5QwOL5QA4Kw",
        "outputId": "64c6d641-02e8-4d43-fcce-e06f89262eb9",
        "colab": {
          "base_uri": "https://localhost:8080/"
        }
      },
      "execution_count": 5,
      "outputs": [
        {
          "output_type": "stream",
          "name": "stdout",
          "text": [
            "Erro 1 - Potência:\n",
            "Incorreto: (x^2)^3 = x**5\n",
            "Correto: (x^2)^3 = x**6 = x**6\n",
            "\n",
            "Erro 2 - Distribuição:\n",
            "Incorreto: (x + a)^2 = a**2 + x**2\n",
            "Correto: (x + a)^2 = (a + x)**2 = a**2 + 2*a*x + x**2\n",
            "\n",
            "Erro 3 - Radiciação:\n",
            "Incorreto: √(3^2 + 4^2) = 7\n",
            "Correto: √(3^2 + 4^2) = 5\n",
            "\n"
          ]
        }
      ]
    }
  ]
}