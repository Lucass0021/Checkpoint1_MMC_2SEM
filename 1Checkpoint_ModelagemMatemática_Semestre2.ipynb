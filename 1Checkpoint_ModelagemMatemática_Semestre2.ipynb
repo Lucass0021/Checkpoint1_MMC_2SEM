{
  "nbformat": 4,
  "nbformat_minor": 0,
  "metadata": {
    "colab": {
      "provenance": [],
      "include_colab_link": true
    },
    "kernelspec": {
      "name": "python3",
      "display_name": "Python 3"
    },
    "language_info": {
      "name": "python"
    }
  },
  "cells": [
    {
      "cell_type": "markdown",
      "metadata": {
        "id": "view-in-github",
        "colab_type": "text"
      },
      "source": [
        "<a href=\"https://colab.research.google.com/github/Lucass0021/Checkpoint1_MMC_2SEM/blob/main/1Checkpoint_ModelagemMatem%C3%A1tica_Semestre2.ipynb\" target=\"_parent\"><img src=\"https://colab.research.google.com/assets/colab-badge.svg\" alt=\"Open In Colab\"/></a>"
      ]
    },
    {
      "cell_type": "markdown",
      "source": [
        "**Importando Bibliotecas**"
      ],
      "metadata": {
        "id": "Q2IGtWyDv06L"
      }
    },
    {
      "cell_type": "code",
      "execution_count": 16,
      "metadata": {
        "id": "S5Lpcx3Iu0Wm"
      },
      "outputs": [],
      "source": [
        "import sympy as sp\n",
        "import numpy as np"
      ]
    },
    {
      "cell_type": "markdown",
      "source": [
        "Integrantes do Grupo:\n",
        "\n",
        "*   Massayoshi Bando Fogaça e Silva | RM: 561779\n",
        "*   Lucca Rosseto Rezende | RM: 564180\n",
        "\n"
      ],
      "metadata": {
        "id": "WorsOKBx29Tw"
      }
    },
    {
      "cell_type": "markdown",
      "source": [
        "**Atividade Parte 1**"
      ],
      "metadata": {
        "id": "K5JiIMdMwDR1"
      }
    },
    {
      "cell_type": "markdown",
      "source": [
        "Pergunta 1 (2 pontos): Escolher uma propriedade de cada uma dessas seções: Arithmetic Operations, Exponent Properties, Properties of Radicals, Properties of Inequalities, Logarithm Properties (5 no total) e verificá-las utilizando Python."
      ],
      "metadata": {
        "id": "y-94I73RwH_w"
      }
    },
    {
      "cell_type": "code",
      "source": [
        "# Arithmetc Operation\n",
        "\n",
        "a, b, c, d = sp.symbols('a b c d', nonzero=True)\n",
        "\n",
        "ex_1 = a/b + c/d\n",
        "ex_2 = (a*d + b*c)/(b*d)\n",
        "\n",
        "print(f\"Primeira Expressão: {ex_1}\")\n",
        "print(f\"Segunda Expressão: {ex_2}\")\n",
        "print(\"As expressões são equivalentes? \", ex_1.equals(ex_2))"
      ],
      "metadata": {
        "colab": {
          "base_uri": "https://localhost:8080/"
        },
        "id": "CTaKarSJwVHZ",
        "outputId": "8f161438-aed3-46e6-eca9-791a4ea27465"
      },
      "execution_count": 17,
      "outputs": [
        {
          "output_type": "stream",
          "name": "stdout",
          "text": [
            "Primeira Expressão: a/b + c/d\n",
            "Segunda Expressão: (a*d + b*c)/(b*d)\n",
            "As expressões são equivalentes?  True\n"
          ]
        }
      ]
    },
    {
      "cell_type": "code",
      "source": [
        "# Exponent Properties\n",
        "\n",
        "a, m, n = sp.symbols('a m n', positive=True)\n",
        "\n",
        "ex_1 = (a**m)**n\n",
        "ex_2 = a**(m*n)\n",
        "\n",
        "print(f\"Primeira Expressão: {ex_1}\")\n",
        "print(f\"Segunda Expressão: {ex_2}\")\n",
        "print(\"As expressões são equivalentes?\", ex_1.equals(ex_2))\n"
      ],
      "metadata": {
        "colab": {
          "base_uri": "https://localhost:8080/"
        },
        "id": "_mxWi_beyMK6",
        "outputId": "631b6a56-edbd-4146-fd26-f254663518cb"
      },
      "execution_count": 18,
      "outputs": [
        {
          "output_type": "stream",
          "name": "stdout",
          "text": [
            "Primeira Expressão: a**(m*n)\n",
            "Segunda Expressão: a**(m*n)\n",
            "As expressões são equivalentes? True\n"
          ]
        }
      ]
    },
    {
      "cell_type": "code",
      "source": [
        "# Properties of Radicals\n",
        "\n",
        "a, m, n = sp.symbols('a m n', positive=True)\n",
        "\n",
        "ex_1 = sp.root(sp.root(a, n), m)\n",
        "ex_2 = sp.root(a, m*n)\n",
        "\n",
        "print(f\"Primeira Expressão: {ex_1}\")\n",
        "print(f\"Segunda Expressão: {ex_2}\")\n",
        "print(f\"As expressões são iguais? \", ex_1.equals(ex_2))"
      ],
      "metadata": {
        "colab": {
          "base_uri": "https://localhost:8080/"
        },
        "id": "0ThVL0sxzRoT",
        "outputId": "ac1ff630-dcfa-4c3f-a63f-6c4a2adad261"
      },
      "execution_count": 19,
      "outputs": [
        {
          "output_type": "stream",
          "name": "stdout",
          "text": [
            "Primeira Expressão: a**(1/(m*n))\n",
            "Segunda Expressão: a**(1/(m*n))\n",
            "As expressões são iguais?  True\n"
          ]
        }
      ]
    },
    {
      "cell_type": "code",
      "source": [
        "# Properties of Inequalities\n",
        "\n",
        "a, b, c = sp.symbols('a b c', real=True)\n",
        "\n",
        "ineq1 = sp.Lt(a, b)      # a < b\n",
        "cond = sp.Gt(c, 0)       # c > 0\n",
        "ineq2 = sp.Lt(a*c, b*c)  # ac < bc\n",
        "\n",
        "print(\"Se a < b e c > 0, então ac < bc ?\", sp.Implies(sp.And(ineq1, cond), ineq2))"
      ],
      "metadata": {
        "colab": {
          "base_uri": "https://localhost:8080/"
        },
        "id": "8Ub8Z84x0Idw",
        "outputId": "8f479b69-e26b-4042-d558-e599e74c5074"
      },
      "execution_count": 20,
      "outputs": [
        {
          "output_type": "stream",
          "name": "stdout",
          "text": [
            "Se a < b e c > 0, então ac < bc ? Implies((c > 0) & (a < b), a*c < b*c)\n"
          ]
        }
      ]
    },
    {
      "cell_type": "code",
      "source": [
        "# Logarithms Properties\n",
        "\n",
        "a, b = sp.symbols('a b', positive=True)\n",
        "\n",
        "ex_1 = sp.log(a/b)\n",
        "ex_2 = sp.log(a) - sp.log(b)\n",
        "\n",
        "print(f\"Primeira Expressão: {ex_1}\")\n",
        "print(f\"Segunda Expressão: {ex_2}\")\n",
        "print(\"As expressões são iguais? \", ex_1.equals(ex_2))"
      ],
      "metadata": {
        "colab": {
          "base_uri": "https://localhost:8080/"
        },
        "id": "hlfRBeIK0dIf",
        "outputId": "1ec557b6-7433-49fd-b9ad-fa849ea701ad"
      },
      "execution_count": 21,
      "outputs": [
        {
          "output_type": "stream",
          "name": "stdout",
          "text": [
            "Primeira Expressão: log(a/b)\n",
            "Segunda Expressão: log(a) - log(b)\n",
            "As expressões são iguais?  True\n"
          ]
        }
      ]
    },
    {
      "cell_type": "markdown",
      "source": [
        "Pergunta 2 (2 pontos): Sobre o mesmo PDF, escolher 3 erros algébricos comuns (Common Algebraic Errors) e verificá-los utilizando Python."
      ],
      "metadata": {
        "id": "6g4JLwWa2bu0"
      }
    },
    {
      "cell_type": "code",
      "source": [
        "# Definindo símbolos\n",
        "x, a = sp.symbols('x a', real=True)\n",
        "\n",
        "# 1. Erro de potência\n",
        "errado1 = x**5\n",
        "correto1 = (x**2)**3\n",
        "print(\"Erro 1 - Potência:\")\n",
        "print(f\"Incorreto: (x^2)^3 = {errado1}\")\n",
        "print(f\"Correto: (x^2)^3 = {correto1} = {sp.simplify(correto1)}\\n\")\n",
        "\n",
        "# 2. Erro de distribuição\n",
        "errado2 = x**2 + a**2\n",
        "correto2 = (x + a)**2\n",
        "print(\"Erro 2 - Distribuição:\")\n",
        "print(f\"Incorreto: (x + a)^2 = {errado2}\")\n",
        "print(f\"Correto: (x + a)^2 = {correto2} = {sp.expand(correto2)}\\n\")\n",
        "\n",
        "# 3. Erro de radiciação (exemplo numérico)\n",
        "print(\"Erro 3 - Radiciação:\")\n",
        "val_x, val_a = 3, 4\n",
        "errado3 = val_x + val_a\n",
        "correto3 = sp.sqrt(val_x**2 + val_a**2)\n",
        "print(f\"Incorreto: √({val_x}^2 + {val_a}^2) = {errado3}\")\n",
        "print(f\"Correto: √({val_x}^2 + {val_a}^2) = {correto3}\\n\")\n"
      ],
      "metadata": {
        "id": "p5QwOL5QA4Kw",
        "outputId": "0aa66af4-88fa-4b82-a6a0-5cab5e147f60",
        "colab": {
          "base_uri": "https://localhost:8080/"
        }
      },
      "execution_count": 22,
      "outputs": [
        {
          "output_type": "stream",
          "name": "stdout",
          "text": [
            "Erro 1 - Potência:\n",
            "Incorreto: (x^2)^3 = x**5\n",
            "Correto: (x^2)^3 = x**6 = x**6\n",
            "\n",
            "Erro 2 - Distribuição:\n",
            "Incorreto: (x + a)^2 = a**2 + x**2\n",
            "Correto: (x + a)^2 = (a + x)**2 = a**2 + 2*a*x + x**2\n",
            "\n",
            "Erro 3 - Radiciação:\n",
            "Incorreto: √(3^2 + 4^2) = 7\n",
            "Correto: √(3^2 + 4^2) = 5\n",
            "\n"
          ]
        }
      ]
    },
    {
      "cell_type": "markdown",
      "source": [
        "**Atividade Parte 2**"
      ],
      "metadata": {
        "id": "GGTKXergKAXX"
      }
    },
    {
      "cell_type": "markdown",
      "source": [
        "Pergunta 3 (3 pontos) – Verifique essas propriedades utilizando numpy (numérico). Gere vetores numéricos e verifique as igualdades do slide anterior.\n",
        "\n",
        "Definir vetores arbitrariamente. Podem ser aleatórios."
      ],
      "metadata": {
        "id": "oZkLyNcdEk9D"
      }
    },
    {
      "cell_type": "markdown",
      "source": [
        "Associatividade da adição"
      ],
      "metadata": {
        "id": "kTmSlAltFbMO"
      }
    },
    {
      "cell_type": "code",
      "source": [
        "a, b, c = np.random.randint(-9, 10), np.random.randint(-9, 10), np.random.randint(-9, 10)\n",
        "\n",
        "print(f\"Exemplo: ({a} + {b}) + {c} = {a} + ({b} + {c})\")\n",
        "lado_esquerdo = (a + b) + c\n",
        "lado_direito = a + (b + c)\n",
        "print(f\"→ {lado_esquerdo} = {lado_direito}   {(lado_esquerdo == lado_direito)}\\n\")"
      ],
      "metadata": {
        "id": "lFJz5hruFjxv",
        "outputId": "b24392ee-ef52-4692-d172-43060f48e165",
        "colab": {
          "base_uri": "https://localhost:8080/"
        }
      },
      "execution_count": 23,
      "outputs": [
        {
          "output_type": "stream",
          "name": "stdout",
          "text": [
            "Exemplo: (-8 + -5) + 8 = -8 + (-5 + 8)\n",
            "→ -5 = -5   True\n",
            "\n"
          ]
        }
      ]
    },
    {
      "cell_type": "markdown",
      "source": [
        "Comutatividade da adição"
      ],
      "metadata": {
        "id": "X7VuFQc1FnXr"
      }
    },
    {
      "cell_type": "code",
      "source": [
        "a, b = np.random.randint(-9, 10), np.random.randint(-9, 10)\n",
        "\n",
        "print(f\"Exemplo: {a} + {b} = {b} + {a}\")\n",
        "\n",
        "lado_esquerdo = a + b\n",
        "lado_direito = b + a\n",
        "print(f\"→ {lado_direito} = {lado_esquerdo} {(lado_esquerdo == lado_direito)}\\n\")"
      ],
      "metadata": {
        "id": "gy0P07vFFpPb",
        "outputId": "25586558-5cce-40bd-ddcd-2d641e5a106e",
        "colab": {
          "base_uri": "https://localhost:8080/"
        }
      },
      "execution_count": 24,
      "outputs": [
        {
          "output_type": "stream",
          "name": "stdout",
          "text": [
            "Exemplo: 2 + -2 = -2 + 2\n",
            "→ 0 = 0 True\n",
            "\n"
          ]
        }
      ]
    },
    {
      "cell_type": "markdown",
      "source": [
        "Elemento identidade da adição"
      ],
      "metadata": {
        "id": "eoRF8KoYFraa"
      }
    },
    {
      "cell_type": "code",
      "source": [
        "a, b = np.random.randint(-9, 10), 0\n",
        "\n",
        "print(f\"Exemplo: {a} + {b} = {a}\")\n",
        "\n",
        "lado_esquerdo = a + b\n",
        "lado_direito = a\n",
        "\n",
        "print(f\"→ {lado_direito} = {lado_esquerdo} {(lado_esquerdo == lado_direito)}\\n\")"
      ],
      "metadata": {
        "id": "atzfJOTLFtW7",
        "outputId": "e0aebffd-08b0-41ef-f882-20297c59e685",
        "colab": {
          "base_uri": "https://localhost:8080/"
        }
      },
      "execution_count": 25,
      "outputs": [
        {
          "output_type": "stream",
          "name": "stdout",
          "text": [
            "Exemplo: -2 + 0 = -2\n",
            "→ -2 = -2 True\n",
            "\n"
          ]
        }
      ]
    },
    {
      "cell_type": "markdown",
      "source": [
        "Elemento inverso da adição"
      ],
      "metadata": {
        "id": "TIZnJ0M7FvSV"
      }
    },
    {
      "cell_type": "code",
      "source": [
        "a = np.random.randint(-9, 10)\n",
        "b = a\n",
        "\n",
        "print(f\"Exemplo: {a} + {-b} = {0}\")\n",
        "\n",
        "lado_esquerdo = a + (-b)\n",
        "lado_direito = 0\n",
        "\n",
        "print(f\"→ {lado_direito} = {lado_esquerdo} {(lado_esquerdo == lado_direito)}\\n\")"
      ],
      "metadata": {
        "id": "SyTZlbgbFwzN",
        "outputId": "8692163d-1192-4f7c-b8fb-d2e85c53f696",
        "colab": {
          "base_uri": "https://localhost:8080/"
        }
      },
      "execution_count": 26,
      "outputs": [
        {
          "output_type": "stream",
          "name": "stdout",
          "text": [
            "Exemplo: -4 + 4 = 0\n",
            "→ 0 = 0 True\n",
            "\n"
          ]
        }
      ]
    },
    {
      "cell_type": "markdown",
      "source": [
        "Compatibilidade da multiplicação por escalar com a multiplicação do corpo."
      ],
      "metadata": {
        "id": "n2tIuaY4FysO"
      }
    },
    {
      "cell_type": "code",
      "source": [
        "a, b, c = np.random.randint(-9, 10), np.random.randint(-9, 10), np.random.randint(-9, 10)\n",
        "\n",
        "print(f\"Exemplo: {a} x ({b} x {c}) = ({a} x {b}) x {c}\")\n",
        "\n",
        "lado_esquerdo = a * (b * c)\n",
        "lado_direito = (a * b) * c\n",
        "\n",
        "print(f\"→ {lado_esquerdo} = {lado_direito}   {(lado_esquerdo == lado_direito)}\\n\")"
      ],
      "metadata": {
        "id": "Os33eIWCF06Y",
        "outputId": "33f86010-d2bb-4421-e428-cc53fb8f9752",
        "colab": {
          "base_uri": "https://localhost:8080/"
        }
      },
      "execution_count": 27,
      "outputs": [
        {
          "output_type": "stream",
          "name": "stdout",
          "text": [
            "Exemplo: 1 x (0 x -2) = (1 x 0) x -2\n",
            "→ 0 = 0   True\n",
            "\n"
          ]
        }
      ]
    },
    {
      "cell_type": "markdown",
      "source": [
        "Elemento identidade da multiplicação por escalar."
      ],
      "metadata": {
        "id": "VGC3nysZF2bK"
      }
    },
    {
      "cell_type": "code",
      "source": [
        "a, b = np.random.randint(-9, 10), 1\n",
        "\n",
        "print(f\"Exemplo: {a} * {b} = {a}\")\n",
        "\n",
        "lado_esquerdo = a * b\n",
        "lado_direito = a\n",
        "\n",
        "print(f\"→ {lado_direito} = {lado_esquerdo} {(lado_esquerdo == lado_direito)}\\n\")"
      ],
      "metadata": {
        "id": "E_m6kGHGF3sb",
        "outputId": "378d2773-1152-435c-9ef2-cd19cd80a435",
        "colab": {
          "base_uri": "https://localhost:8080/"
        }
      },
      "execution_count": 28,
      "outputs": [
        {
          "output_type": "stream",
          "name": "stdout",
          "text": [
            "Exemplo: -4 * 1 = -4\n",
            "→ -4 = -4 True\n",
            "\n"
          ]
        }
      ]
    },
    {
      "cell_type": "markdown",
      "source": [
        "Distributividade da multiplicação por escalar em relação à adição de vetores."
      ],
      "metadata": {
        "id": "5ea4p2A7F5M4"
      }
    },
    {
      "cell_type": "code",
      "source": [
        "a, b, c = np.random.randint(-9, 10), np.random.randint(-9, 10), np.random.randint(-9, 10)\n",
        "\n",
        "print(f\"Exemplo: {a} x ({b} + {c}) = {a} x {b} + {a} x {c}\")\n",
        "\n",
        "lado_esquerdo = a * (b + c)\n",
        "lado_direito = a * b + a * c\n",
        "\n",
        "print(f\"→ {lado_direito} = {lado_esquerdo} {(lado_esquerdo == lado_direito)}\\n\")"
      ],
      "metadata": {
        "id": "-aIs0boIF6m0",
        "outputId": "189a8ee1-a492-46ef-af86-6b2443e4ff7b",
        "colab": {
          "base_uri": "https://localhost:8080/"
        }
      },
      "execution_count": 29,
      "outputs": [
        {
          "output_type": "stream",
          "name": "stdout",
          "text": [
            "Exemplo: -9 x (6 + -9) = -9 x 6 + -9 x -9\n",
            "→ 27 = 27 True\n",
            "\n"
          ]
        }
      ]
    },
    {
      "cell_type": "markdown",
      "source": [
        "Distributividade da multiplicação por escalar em relação a adição do corpo."
      ],
      "metadata": {
        "id": "-iaos37wF74X"
      }
    },
    {
      "cell_type": "code",
      "source": [
        "a, b, c = np.random.randint(-9, 10), np.random.randint(-9, 10), np.random.randint(-9, 10)\n",
        "\n",
        "print(f\"Exemplo: ({a} + {b}) x {c} = {a} x {c} + {b} x {c}\")\n",
        "\n",
        "lado_esquerdo = (a + b) * c\n",
        "lado_direito = a * c + b * c\n",
        "\n",
        "print(f\"→ {lado_direito} = {lado_esquerdo} {(lado_esquerdo == lado_direito)}\\n\")"
      ],
      "metadata": {
        "id": "FlBj8RRsF9FR",
        "outputId": "be2dd524-6b4e-406b-f4a7-4842995a36fb",
        "colab": {
          "base_uri": "https://localhost:8080/"
        }
      },
      "execution_count": 30,
      "outputs": [
        {
          "output_type": "stream",
          "name": "stdout",
          "text": [
            "Exemplo: (-6 + 1) x 2 = -6 x 2 + 1 x 2\n",
            "→ -10 = -10 True\n",
            "\n"
          ]
        }
      ]
    }
  ]
}