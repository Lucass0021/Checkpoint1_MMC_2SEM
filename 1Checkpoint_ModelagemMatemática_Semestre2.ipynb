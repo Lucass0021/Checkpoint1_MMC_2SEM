{
  "nbformat": 4,
  "nbformat_minor": 0,
  "metadata": {
    "colab": {
      "provenance": [],
      "include_colab_link": true
    },
    "kernelspec": {
      "name": "python3",
      "display_name": "Python 3"
    },
    "language_info": {
      "name": "python"
    }
  },
  "cells": [
    {
      "cell_type": "markdown",
      "metadata": {
        "id": "view-in-github",
        "colab_type": "text"
      },
      "source": [
        "<a href=\"https://colab.research.google.com/github/Lucass0021/Checkpoint1_MMC_2SEM/blob/main/1Checkpoint_ModelagemMatem%C3%A1tica_Semestre2.ipynb\" target=\"_parent\"><img src=\"https://colab.research.google.com/assets/colab-badge.svg\" alt=\"Open In Colab\"/></a>"
      ]
    },
    {
      "cell_type": "markdown",
      "source": [
        "**Importando Bibliotecas**"
      ],
      "metadata": {
        "id": "Q2IGtWyDv06L"
      }
    },
    {
      "cell_type": "code",
      "execution_count": null,
      "metadata": {
        "id": "S5Lpcx3Iu0Wm"
      },
      "outputs": [],
      "source": [
        "import sympy as sp\n",
        "import numpy as np"
      ]
    },
    {
      "cell_type": "markdown",
      "source": [
        "Integrantes do Grupo:\n",
        "\n",
        "*   Massayoshi Bando Fogaça e Silva | RM: 561779\n",
        "*   Lucca Rosseto Rezende | RM: 564180\n",
        "\n"
      ],
      "metadata": {
        "id": "WorsOKBx29Tw"
      }
    },
    {
      "cell_type": "markdown",
      "source": [
        "**Atividade Parte 1**"
      ],
      "metadata": {
        "id": "K5JiIMdMwDR1"
      }
    },
    {
      "cell_type": "markdown",
      "source": [
        "Pergunta 1 (2 pontos): Escolher uma propriedade de cada uma dessas seções: Arithmetic Operations, Exponent Properties, Properties of Radicals, Properties of Inequalities, Logarithm Properties (5 no total) e verificá-las utilizando Python."
      ],
      "metadata": {
        "id": "y-94I73RwH_w"
      }
    },
    {
      "cell_type": "code",
      "source": [
        "# Arithmetc Operation\n",
        "\n",
        "a, b, c, d = sp.symbols('a b c d', nonzero=True)\n",
        "\n",
        "ex_1 = a/b + c/d\n",
        "ex_2 = (a*d + b*c)/(b*d)\n",
        "\n",
        "print(f\"Primeira Expressão: {ex_1}\")\n",
        "print(f\"Segunda Expressão: {ex_2}\")\n",
        "print(\"As expressões são equivalentes? \", ex_1.equals(ex_2))"
      ],
      "metadata": {
        "colab": {
          "base_uri": "https://localhost:8080/"
        },
        "id": "CTaKarSJwVHZ",
        "outputId": "8f161438-aed3-46e6-eca9-791a4ea27465"
      },
      "execution_count": null,
      "outputs": [
        {
          "output_type": "stream",
          "name": "stdout",
          "text": [
            "Primeira Expressão: a/b + c/d\n",
            "Segunda Expressão: (a*d + b*c)/(b*d)\n",
            "As expressões são equivalentes?  True\n"
          ]
        }
      ]
    },
    {
      "cell_type": "code",
      "source": [
        "# Exponent Properties\n",
        "\n",
        "a, m, n = sp.symbols('a m n', positive=True)\n",
        "\n",
        "ex_1 = (a**m)**n\n",
        "ex_2 = a**(m*n)\n",
        "\n",
        "print(f\"Primeira Expressão: {ex_1}\")\n",
        "print(f\"Segunda Expressão: {ex_2}\")\n",
        "print(\"As expressões são equivalentes?\", ex_1.equals(ex_2))\n"
      ],
      "metadata": {
        "colab": {
          "base_uri": "https://localhost:8080/"
        },
        "id": "_mxWi_beyMK6",
        "outputId": "631b6a56-edbd-4146-fd26-f254663518cb"
      },
      "execution_count": null,
      "outputs": [
        {
          "output_type": "stream",
          "name": "stdout",
          "text": [
            "Primeira Expressão: a**(m*n)\n",
            "Segunda Expressão: a**(m*n)\n",
            "As expressões são equivalentes? True\n"
          ]
        }
      ]
    },
    {
      "cell_type": "code",
      "source": [
        "# Properties of Radicals\n",
        "\n",
        "a, m, n = sp.symbols('a m n', positive=True)\n",
        "\n",
        "ex_1 = sp.root(sp.root(a, n), m)\n",
        "ex_2 = sp.root(a, m*n)\n",
        "\n",
        "print(f\"Primeira Expressão: {ex_1}\")\n",
        "print(f\"Segunda Expressão: {ex_2}\")\n",
        "print(f\"As expressões são iguais? \", ex_1.equals(ex_2))"
      ],
      "metadata": {
        "colab": {
          "base_uri": "https://localhost:8080/"
        },
        "id": "0ThVL0sxzRoT",
        "outputId": "ac1ff630-dcfa-4c3f-a63f-6c4a2adad261"
      },
      "execution_count": null,
      "outputs": [
        {
          "output_type": "stream",
          "name": "stdout",
          "text": [
            "Primeira Expressão: a**(1/(m*n))\n",
            "Segunda Expressão: a**(1/(m*n))\n",
            "As expressões são iguais?  True\n"
          ]
        }
      ]
    },
    {
      "cell_type": "code",
      "source": [
        "# Properties of Inequalities\n",
        "\n",
        "a, b, c = sp.symbols('a b c', real=True)\n",
        "\n",
        "ineq1 = sp.Lt(a, b)      # a < b\n",
        "cond = sp.Gt(c, 0)       # c > 0\n",
        "ineq2 = sp.Lt(a*c, b*c)  # ac < bc\n",
        "\n",
        "print(\"Se a < b e c > 0, então ac < bc ?\", sp.Implies(sp.And(ineq1, cond), ineq2))"
      ],
      "metadata": {
        "colab": {
          "base_uri": "https://localhost:8080/"
        },
        "id": "8Ub8Z84x0Idw",
        "outputId": "8f479b69-e26b-4042-d558-e599e74c5074"
      },
      "execution_count": null,
      "outputs": [
        {
          "output_type": "stream",
          "name": "stdout",
          "text": [
            "Se a < b e c > 0, então ac < bc ? Implies((c > 0) & (a < b), a*c < b*c)\n"
          ]
        }
      ]
    },
    {
      "cell_type": "code",
      "source": [
        "# Logarithms Properties\n",
        "\n",
        "a, b = sp.symbols('a b', positive=True)\n",
        "\n",
        "ex_1 = sp.log(a/b)\n",
        "ex_2 = sp.log(a) - sp.log(b)\n",
        "\n",
        "print(f\"Primeira Expressão: {ex_1}\")\n",
        "print(f\"Segunda Expressão: {ex_2}\")\n",
        "print(\"As expressões são iguais? \", ex_1.equals(ex_2))"
      ],
      "metadata": {
        "colab": {
          "base_uri": "https://localhost:8080/"
        },
        "id": "hlfRBeIK0dIf",
        "outputId": "1ec557b6-7433-49fd-b9ad-fa849ea701ad"
      },
      "execution_count": null,
      "outputs": [
        {
          "output_type": "stream",
          "name": "stdout",
          "text": [
            "Primeira Expressão: log(a/b)\n",
            "Segunda Expressão: log(a) - log(b)\n",
            "As expressões são iguais?  True\n"
          ]
        }
      ]
    },
    {
      "cell_type": "markdown",
      "source": [
        "Pergunta 2 (2 pontos): Sobre o mesmo PDF, escolher 3 erros algébricos comuns (Common Algebraic Errors) e verificá-los utilizando Python."
      ],
      "metadata": {
        "id": "6g4JLwWa2bu0"
      }
    },
    {
      "cell_type": "code",
      "source": [
        "# Definindo símbolos\n",
        "x, a = sp.symbols('x a', real=True)\n",
        "\n",
        "# 1. Erro de potência\n",
        "errado1 = x**5\n",
        "correto1 = (x**2)**3\n",
        "print(\"Erro 1 - Potência:\")\n",
        "print(f\"Incorreto: (x^2)^3 = {errado1}\")\n",
        "print(f\"Correto: (x^2)^3 = {correto1} = {sp.simplify(correto1)}\\n\")\n",
        "\n",
        "# 2. Erro de distribuição\n",
        "errado2 = x**2 + a**2\n",
        "correto2 = (x + a)**2\n",
        "print(\"Erro 2 - Distribuição:\")\n",
        "print(f\"Incorreto: (x + a)^2 = {errado2}\")\n",
        "print(f\"Correto: (x + a)^2 = {correto2} = {sp.expand(correto2)}\\n\")\n",
        "\n",
        "# 3. Erro de radiciação (exemplo numérico)\n",
        "print(\"Erro 3 - Radiciação:\")\n",
        "val_x, val_a = 3, 4\n",
        "errado3 = val_x + val_a\n",
        "correto3 = sp.sqrt(val_x**2 + val_a**2)\n",
        "print(f\"Incorreto: √({val_x}^2 + {val_a}^2) = {errado3}\")\n",
        "print(f\"Correto: √({val_x}^2 + {val_a}^2) = {correto3}\\n\")\n"
      ],
      "metadata": {
        "id": "p5QwOL5QA4Kw",
        "outputId": "0aa66af4-88fa-4b82-a6a0-5cab5e147f60",
        "colab": {
          "base_uri": "https://localhost:8080/"
        }
      },
      "execution_count": null,
      "outputs": [
        {
          "output_type": "stream",
          "name": "stdout",
          "text": [
            "Erro 1 - Potência:\n",
            "Incorreto: (x^2)^3 = x**5\n",
            "Correto: (x^2)^3 = x**6 = x**6\n",
            "\n",
            "Erro 2 - Distribuição:\n",
            "Incorreto: (x + a)^2 = a**2 + x**2\n",
            "Correto: (x + a)^2 = (a + x)**2 = a**2 + 2*a*x + x**2\n",
            "\n",
            "Erro 3 - Radiciação:\n",
            "Incorreto: √(3^2 + 4^2) = 7\n",
            "Correto: √(3^2 + 4^2) = 5\n",
            "\n"
          ]
        }
      ]
    },
    {
      "cell_type": "markdown",
      "source": [
        "**Atividade Parte 2**"
      ],
      "metadata": {
        "id": "GGTKXergKAXX"
      }
    },
    {
      "cell_type": "markdown",
      "source": [
        "Pergunta 3 (3 pontos) – Verifique essas propriedades utilizando numpy (numérico). Gere vetores numéricos e verifique as igualdades do slide anterior.\n",
        "\n",
        "Definir vetores arbitrariamente. Podem ser aleatórios."
      ],
      "metadata": {
        "id": "oZkLyNcdEk9D"
      }
    },
    {
      "cell_type": "markdown",
      "source": [
        "Associatividade da adição"
      ],
      "metadata": {
        "id": "kTmSlAltFbMO"
      }
    },
    {
      "cell_type": "code",
      "source": [
        "a, b, c = np.random.randint(-9, 10), np.random.randint(-9, 10), np.random.randint(-9, 10)\n",
        "\n",
        "print(f\"Exemplo: ({a} + {b}) + {c} = {a} + ({b} + {c})\")\n",
        "lado_esquerdo = (a + b) + c\n",
        "lado_direito = a + (b + c)\n",
        "print(f\"→ {lado_esquerdo} = {lado_direito}   {(lado_esquerdo == lado_direito)}\\n\")"
      ],
      "metadata": {
        "id": "lFJz5hruFjxv",
        "outputId": "b24392ee-ef52-4692-d172-43060f48e165",
        "colab": {
          "base_uri": "https://localhost:8080/"
        }
      },
      "execution_count": null,
      "outputs": [
        {
          "output_type": "stream",
          "name": "stdout",
          "text": [
            "Exemplo: (-8 + -5) + 8 = -8 + (-5 + 8)\n",
            "→ -5 = -5   True\n",
            "\n"
          ]
        }
      ]
    },
    {
      "cell_type": "markdown",
      "source": [
        "Comutatividade da adição"
      ],
      "metadata": {
        "id": "X7VuFQc1FnXr"
      }
    },
    {
      "cell_type": "code",
      "source": [
        "a, b = np.random.randint(-9, 10), np.random.randint(-9, 10)\n",
        "\n",
        "print(f\"Exemplo: {a} + {b} = {b} + {a}\")\n",
        "\n",
        "lado_esquerdo = a + b\n",
        "lado_direito = b + a\n",
        "print(f\"→ {lado_direito} = {lado_esquerdo} {(lado_esquerdo == lado_direito)}\\n\")"
      ],
      "metadata": {
        "id": "gy0P07vFFpPb",
        "outputId": "25586558-5cce-40bd-ddcd-2d641e5a106e",
        "colab": {
          "base_uri": "https://localhost:8080/"
        }
      },
      "execution_count": null,
      "outputs": [
        {
          "output_type": "stream",
          "name": "stdout",
          "text": [
            "Exemplo: 2 + -2 = -2 + 2\n",
            "→ 0 = 0 True\n",
            "\n"
          ]
        }
      ]
    },
    {
      "cell_type": "markdown",
      "source": [
        "Elemento identidade da adição"
      ],
      "metadata": {
        "id": "eoRF8KoYFraa"
      }
    },
    {
      "cell_type": "code",
      "source": [
        "a, b = np.random.randint(-9, 10), 0\n",
        "\n",
        "print(f\"Exemplo: {a} + {b} = {a}\")\n",
        "\n",
        "lado_esquerdo = a + b\n",
        "lado_direito = a\n",
        "\n",
        "print(f\"→ {lado_direito} = {lado_esquerdo} {(lado_esquerdo == lado_direito)}\\n\")"
      ],
      "metadata": {
        "id": "atzfJOTLFtW7",
        "outputId": "e0aebffd-08b0-41ef-f882-20297c59e685",
        "colab": {
          "base_uri": "https://localhost:8080/"
        }
      },
      "execution_count": null,
      "outputs": [
        {
          "output_type": "stream",
          "name": "stdout",
          "text": [
            "Exemplo: -2 + 0 = -2\n",
            "→ -2 = -2 True\n",
            "\n"
          ]
        }
      ]
    },
    {
      "cell_type": "markdown",
      "source": [
        "Elemento inverso da adição"
      ],
      "metadata": {
        "id": "TIZnJ0M7FvSV"
      }
    },
    {
      "cell_type": "code",
      "source": [
        "a = np.random.randint(-9, 10)\n",
        "b = a\n",
        "\n",
        "print(f\"Exemplo: {a} + {-b} = {0}\")\n",
        "\n",
        "lado_esquerdo = a + (-b)\n",
        "lado_direito = 0\n",
        "\n",
        "print(f\"→ {lado_direito} = {lado_esquerdo} {(lado_esquerdo == lado_direito)}\\n\")"
      ],
      "metadata": {
        "id": "SyTZlbgbFwzN",
        "outputId": "8692163d-1192-4f7c-b8fb-d2e85c53f696",
        "colab": {
          "base_uri": "https://localhost:8080/"
        }
      },
      "execution_count": null,
      "outputs": [
        {
          "output_type": "stream",
          "name": "stdout",
          "text": [
            "Exemplo: -4 + 4 = 0\n",
            "→ 0 = 0 True\n",
            "\n"
          ]
        }
      ]
    },
    {
      "cell_type": "markdown",
      "source": [
        "Compatibilidade da multiplicação por escalar com a multiplicação do corpo."
      ],
      "metadata": {
        "id": "n2tIuaY4FysO"
      }
    },
    {
      "cell_type": "code",
      "source": [
        "a, b, c = np.random.randint(-9, 10), np.random.randint(-9, 10), np.random.randint(-9, 10)\n",
        "\n",
        "print(f\"Exemplo: {a} x ({b} x {c}) = ({a} x {b}) x {c}\")\n",
        "\n",
        "lado_esquerdo = a * (b * c)\n",
        "lado_direito = (a * b) * c\n",
        "\n",
        "print(f\"→ {lado_esquerdo} = {lado_direito}   {(lado_esquerdo == lado_direito)}\\n\")"
      ],
      "metadata": {
        "id": "Os33eIWCF06Y",
        "outputId": "33f86010-d2bb-4421-e428-cc53fb8f9752",
        "colab": {
          "base_uri": "https://localhost:8080/"
        }
      },
      "execution_count": null,
      "outputs": [
        {
          "output_type": "stream",
          "name": "stdout",
          "text": [
            "Exemplo: 1 x (0 x -2) = (1 x 0) x -2\n",
            "→ 0 = 0   True\n",
            "\n"
          ]
        }
      ]
    },
    {
      "cell_type": "markdown",
      "source": [
        "Elemento identidade da multiplicação por escalar."
      ],
      "metadata": {
        "id": "VGC3nysZF2bK"
      }
    },
    {
      "cell_type": "code",
      "source": [
        "a, b = np.random.randint(-9, 10), 1\n",
        "\n",
        "print(f\"Exemplo: {a} * {b} = {a}\")\n",
        "\n",
        "lado_esquerdo = a * b\n",
        "lado_direito = a\n",
        "\n",
        "print(f\"→ {lado_direito} = {lado_esquerdo} {(lado_esquerdo == lado_direito)}\\n\")"
      ],
      "metadata": {
        "id": "E_m6kGHGF3sb",
        "outputId": "378d2773-1152-435c-9ef2-cd19cd80a435",
        "colab": {
          "base_uri": "https://localhost:8080/"
        }
      },
      "execution_count": null,
      "outputs": [
        {
          "output_type": "stream",
          "name": "stdout",
          "text": [
            "Exemplo: -4 * 1 = -4\n",
            "→ -4 = -4 True\n",
            "\n"
          ]
        }
      ]
    },
    {
      "cell_type": "markdown",
      "source": [
        "Distributividade da multiplicação por escalar em relação à adição de vetores."
      ],
      "metadata": {
        "id": "5ea4p2A7F5M4"
      }
    },
    {
      "cell_type": "code",
      "source": [
        "a, b, c = np.random.randint(-9, 10), np.random.randint(-9, 10), np.random.randint(-9, 10)\n",
        "\n",
        "print(f\"Exemplo: {a} x ({b} + {c}) = {a} x {b} + {a} x {c}\")\n",
        "\n",
        "lado_esquerdo = a * (b + c)\n",
        "lado_direito = a * b + a * c\n",
        "\n",
        "print(f\"→ {lado_direito} = {lado_esquerdo} {(lado_esquerdo == lado_direito)}\\n\")"
      ],
      "metadata": {
        "id": "-aIs0boIF6m0",
        "outputId": "189a8ee1-a492-46ef-af86-6b2443e4ff7b",
        "colab": {
          "base_uri": "https://localhost:8080/"
        }
      },
      "execution_count": null,
      "outputs": [
        {
          "output_type": "stream",
          "name": "stdout",
          "text": [
            "Exemplo: -9 x (6 + -9) = -9 x 6 + -9 x -9\n",
            "→ 27 = 27 True\n",
            "\n"
          ]
        }
      ]
    },
    {
      "cell_type": "markdown",
      "source": [
        "Distributividade da multiplicação por escalar em relação a adição do corpo."
      ],
      "metadata": {
        "id": "-iaos37wF74X"
      }
    },
    {
      "cell_type": "code",
      "source": [
        "a, b, c = np.random.randint(-9, 10), np.random.randint(-9, 10), np.random.randint(-9, 10)\n",
        "\n",
        "print(f\"Exemplo: ({a} + {b}) x {c} = {a} x {c} + {b} x {c}\")\n",
        "\n",
        "lado_esquerdo = (a + b) * c\n",
        "lado_direito = a * c + b * c\n",
        "\n",
        "print(f\"→ {lado_direito} = {lado_esquerdo} {(lado_esquerdo == lado_direito)}\\n\")"
      ],
      "metadata": {
        "id": "FlBj8RRsF9FR",
        "outputId": "be2dd524-6b4e-406b-f4a7-4842995a36fb",
        "colab": {
          "base_uri": "https://localhost:8080/"
        }
      },
      "execution_count": null,
      "outputs": [
        {
          "output_type": "stream",
          "name": "stdout",
          "text": [
            "Exemplo: (-6 + 1) x 2 = -6 x 2 + 1 x 2\n",
            "→ -10 = -10 True\n",
            "\n"
          ]
        }
      ]
    },
    {
      "cell_type": "markdown",
      "source": [
        "**Atividade parte 3**"
      ],
      "metadata": {
        "id": "tuH0e7qrN1D1"
      }
    },
    {
      "cell_type": "markdown",
      "source": [
        "Pergunta 4 (3 pontos) - Pedir para o chatGPT (ou outra LLM) para\n",
        "refazer as questões 2 e 3. Faça o prompt da forma que você ache mais\n",
        "adequada.\n",
        "Na resposta, você deve incluir o prompt utilizado e também as linhas\n",
        "de código geradas. Execute esse output. Ele está correto? Avalie\n"
      ],
      "metadata": {
        "id": "2FWkeHitMgFo"
      }
    },
    {
      "cell_type": "markdown",
      "source": [
        "Pergunta 2 feita pelo CHAGPT:"
      ],
      "metadata": {
        "id": "Cc-MvYofOB7H"
      }
    },
    {
      "cell_type": "markdown",
      "source": [
        "PROMPT UTILIZADO:"
      ],
      "metadata": {
        "id": "IrlRqVEyOON8"
      }
    },
    {
      "cell_type": "markdown",
      "source": [
        "![image.png](data:image/png;base64,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)"
      ],
      "metadata": {
        "id": "KfwRYUT3OUwF"
      }
    },
    {
      "cell_type": "markdown",
      "source": [
        "OUTPUT GERADO:"
      ],
      "metadata": {
        "id": "9MDPpVwFPFTx"
      }
    },
    {
      "cell_type": "markdown",
      "source": [
        "![image.png](data:image/png;base64,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)\n",
        "\n",
        "![image.png](data:image/png;base64,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)"
      ],
      "metadata": {
        "id": "fEwLZR2LPOSg"
      }
    },
    {
      "cell_type": "markdown",
      "source": [
        "EXECUTANDO O OUTPUT:"
      ],
      "metadata": {
        "id": "FIqrJgfuQ86A"
      }
    },
    {
      "cell_type": "markdown",
      "source": [
        "Erro 1: Cancelamento incorreto"
      ],
      "metadata": {
        "id": "40u5mFybRJs8"
      }
    },
    {
      "cell_type": "code",
      "source": [
        "a, b, x = 2, 3, 4\n",
        "\n",
        "# Erro comum\n",
        "erro1 = 1 + b*x\n",
        "\n",
        "# Correto\n",
        "correto1 = 1 + (b*x)/a\n",
        "certo_formula = (a + b*x) / a\n",
        "\n",
        "print(\"Erro 1 (comum) =\", erro1)\n",
        "print(\"Forma correta =\", correto1)\n",
        "print(\"Checando igualdade:\", certo_formula == correto1)"
      ],
      "metadata": {
        "id": "cVhtRrfaRKRB",
        "outputId": "bc16d500-80bb-4e0e-dbc8-d8e5deaa00c2",
        "colab": {
          "base_uri": "https://localhost:8080/"
        }
      },
      "execution_count": 4,
      "outputs": [
        {
          "output_type": "stream",
          "name": "stdout",
          "text": [
            "Erro 1 (comum) = 13\n",
            "Forma correta = 7.0\n",
            "Checando igualdade: True\n"
          ]
        }
      ]
    },
    {
      "cell_type": "markdown",
      "source": [
        "Erro 2: Quadrado de uma soma"
      ],
      "metadata": {
        "id": "5gKyKpMxRNbZ"
      }
    },
    {
      "cell_type": "code",
      "source": [
        "x, a = 3, 5\n",
        "\n",
        "# Erro comum\n",
        "erro2 = x**2 + a**2\n",
        "\n",
        "# Correto\n",
        "correto2 = (x + a)**2\n",
        "\n",
        "print(\"Erro 2 (comum) =\", erro2)\n",
        "print(\"Forma correta =\", correto2)\n",
        "print(\"São iguais? \", erro2 == correto2)"
      ],
      "metadata": {
        "id": "94RgTZftRQJz",
        "outputId": "670d356b-32cd-4308-98f3-4627eb8f4eaf",
        "colab": {
          "base_uri": "https://localhost:8080/"
        }
      },
      "execution_count": 5,
      "outputs": [
        {
          "output_type": "stream",
          "name": "stdout",
          "text": [
            "Erro 2 (comum) = 34\n",
            "Forma correta = 64\n",
            "São iguais?  False\n"
          ]
        }
      ]
    },
    {
      "cell_type": "markdown",
      "source": [
        "Erro 3: Raiz de uma soma"
      ],
      "metadata": {
        "id": "gHxjEvyTRSZL"
      }
    },
    {
      "cell_type": "code",
      "source": [
        "import math\n",
        "\n",
        "x, a = 3, 4\n",
        "\n",
        "# Erro comum\n",
        "erro3 = x + a\n",
        "\n",
        "# Correto\n",
        "correto3 = math.sqrt(x**2 + a**2)\n",
        "\n",
        "print(\"Erro 3 (comum) =\", erro3)\n",
        "print(\"Forma correta =\", correto3)\n"
      ],
      "metadata": {
        "id": "gsvUtreoRgqk",
        "outputId": "efe35055-2ac9-44b4-f5a4-91dc93a31e8b",
        "colab": {
          "base_uri": "https://localhost:8080/"
        }
      },
      "execution_count": 6,
      "outputs": [
        {
          "output_type": "stream",
          "name": "stdout",
          "text": [
            "Erro 3 (comum) = 7\n",
            "Forma correta = 5.0\n"
          ]
        }
      ]
    },
    {
      "cell_type": "markdown",
      "source": [
        "Pergunta 3 feita pelo CHAGPT:"
      ],
      "metadata": {
        "id": "ilWkRiBZR_6u"
      }
    },
    {
      "cell_type": "markdown",
      "source": [
        "![image.png](data:image/png;base64,iVBORw0KGgoAAAANSUhEUgAAApgAAADLCAIAAABF1nTuAAAdmUlEQVR4Ae2d7W4kO45E91XUMGygjYL1/i93FzOajY2hvpJZVe7K9uGPHopiUNTJcnJsX3T/T8EgAAEIQAACELgsgf+5bOc0DgEIQAACEIBAYZDzIYAABCAAAQhcmACD/MIPj9YhAAEIQAACDHI+AxCAAAQgAIELE2CQX/jh0ToEIAABCECAQc5nAAIQgAAEIHBhAgzyCz88WocABCAAAQgwyPkMQAACEIAABC5MgEF+4YdH6xCAAAQgAAEGOZ8BCEAAAhCAwIUJMMgv/PBoHQIQgAAEIMAg5zMAAQhAAAIQuDABBvmFHx6tQwACEIAABBjkfAYgAAEIQAACFybAIL/ww6N1CEAAAhCAAIOczwAEIAABCEDgwgQY5Bd+eLQOAQhAAAIQYJDzGYAABCAAAQhcmACD/MIPj9YhAAEIQAACDHI+AxCAAAQgAIELE2CQX/jh0ToEIAABCECAQc5nAAIQgAAEIHBhAgzyCz88WocABCAAAQgwyPkMQAACEIAABC5MgEF+4YdH6xCAAAQgAAEGOZ8BCEAAAhCAwIUJMMgv/PBoHQIQgAAEIMAg5zMAAQhAAAIQuDABBvmFHx6tQwACEIAABBjkfAYgAAEIQAACFybAIL/ww6N1CEAAAhCAAIOczwAEIAABCEDgwgQY5Bd+eLQOAQhAAAIQYJDzGYAABCAAAQhcmACD/MIPj9YhAAEIQAACDHI+AxCAAAQgAIELE2CQX/jh0ToEIAABCECAQc5nAAIQgAAEIHBhAgzyCz88WocABCAAAQgwyPkMQAACEIAABC5MgEF+4YdH6xCAAAQgAAEGOZ8BCEAAAhCAwIUJMMgv/PBoHQIQgAAEIMAg5zPwZwi8vb19fHx8fn7ebrevr6+KQQACEPjrCHx9fd1ut8/Pz4+Pj7e3t/IcY5A/hytV5wQ+Pj5ut1vFIAABCPwwArfb7ePjozzaGOSPJkq9OYH393dGeMUgAIGfTeB2u72/v5fHGYP8cSyptCTw+/fvikEAAhCAwL8J/P79uzzIGOQPAkmZOYFfv37xjXjFIAABCPw3gdvt9uvXr3K3McjvRkiBJQGmeMUgAAEITAg8ZJYzyAv2VAJ8Lz75+iUMAQhA4F8Ebrdbuc8Y5PfxQ70kwO/FKwYBCEBgR+DO35czyAv2JALv7++7Ty/7EIAABCDwLwL3/HfsDPKCPYkAP1T/11cnBgEIQOAAgXt+wM4gL9gzCHx8fBz46JICAQhAAAL/IXD674phkBfsGQT4dvw/X5r8DwQgAIFjBE5/U84gL9jDCby9vR373JIFAQhAAAL/T+Dc38fOIC/Ywwnwc/X//7rEgwAEIHCYwLmfrjPIC/ZwAp+fn4c/tyRCAAIQgMB/CHx+fpa8McjzzFDsCPAL8opBAAIQyBM492tyBnnBHk6Af188//WLAgIQgED9+voqeWOQ55mh2BGoGAQgAAEInCJQ8sYgzzNDsSNQ/5D9888/4eR//m211n4rZLI8QeAc1ROqE5IT12kSP2vmny6+FfqJ22QS/koCJW8M8jwzFDsCNWmLl9diqz8kJPvS/V5I5ByBc1RPqE5Izt0o/H8+P9f908W3wu85ZdsGCX+QQMkbgzzPDMWOQM3b8P01DB6vfaf8+EFkpgiceC4nJA9p6dnn9k1+/4l9D0T+LIGSNwZ5nhmKHYGat+H7axg8XvtO+fGDyEwROPFcTkge0tKzz+2b/P4T+x6I/FkCJW8M8jwzFDsCNW/D95cH22+7Q6T9IFRBOYovfkfuBSWUoxuEiKuUE5xhzvGgN++VhxWU0Poc5viW8henHNlqdQKcmTDEg2rY8wnJrM6iVW251tsb+kp2R2AV9Ei4jrZCAy3Nd/tqvqv8YZo3r4PcCaqwXGTq3GEzIcgyS6DkjUGeZ4ZiR6CesvDe8eXQb+8dP8rTwrtmvaVdOSrrkZmv5NmhQ+EwmKoQzl0U9K2m8kjww1KnnAYeCoal15/5W8ksYViwBWeSI3GVnT0vjwduXt/Tmu+7Mz+cPkvzeLhy35InBz8sdbrHw0WUg3OCQMkbgzzPDMWOQD1ls/fCwXj/KnHhzG+daleObqCInCBR5qKBoF1U8GpecFjBk/sEReQofxE5t+WthtstCqqf45JQTUs5oaaWfYJHsv6ibL/lxduuInJSKiX32D1yvHjI9KX76+b7TO8T/ziBkjcGeZ4Zih2Betb0LpDTXkztGwj92cp7zjDiCTM/CD2t31ID4RualrloVVvKVPH+RCWHU8KyLzWL9EcsIue2Qs/e6qKgQzgoaWn+p27tFRSUs27Dd4/46lz15fS9ecEgPLelsxp2X3rkePGQ6Uv31833maExlgcJlLwxyPPMUOwI1LOmd4EcfzGFqp7TtkLElzM/CD1tuxX6WbSqzL5+r/Ic90M/qjmLSytHkkXk3FZ/iyNnBZWOltMX6beU05xZQh/3SNafnTWs48EgPLflVz5XIagWy7B1/JF5k/gpAiVvDPI8MxQ7AvWs6a0hJ7w4vLDntHiI+HLmB6Gnbbe8mZDcbynSH+F3DLthuTilz1REzqIH5cjpkxdbfgUJZ92qjpyQGeJevN8Kx3myb/VCj2T94SlexBNC/P6tg/c6fm7I9KX74TGtL+JN4qcIlLwxyPPMUOwI1Dts+ANSf5vIl6PTQsSX7vsLqPm+G/ywnJ01jEsrx48+ElSOHK+gQ7e38MzmzwoG/rO0vkhobCb0+iEnLNWzS2anzLQq0gtnkmxcRwShlnJmmR735Jmv/HCpFp+pHKPn9EV811V9Zot4vveGf45AyRuDPM8MxY5AvcPCi0OVWtxfGe63tBDxpftK1llh189abKm34LhcW+eCfvqwgtfXW9VVw5dvUw0LNu1iSycOKw+FoTFvz/M9vpCELfXjpRQMjucMjwuX8hz5KuJOO0gRryOhmgmRoaovKLk7oZSf21dQshzlzGq2TO/QM/UsQpDlPQRK3hjkeWYodgTq1Sy8167W/r/6fdQVHlXnigzpuSew/TxsE/qaRNYESt4Y5HlmKHYE6tXsL3gZPeoKj6pztY8A/Y4JbD8P24RxXaJzAiVvDPI8MxQ7AvVq9he8jB51hUfVudpHgH7HBNafh/XuuCLRHYGSNwZ5nhmKHYF6NfsL3kePusKj6lztI0C/YwKzz0P7rflYQ/Q+AiVvDPI8MxQ7AhWDAAQgAIFTBEreGOR5Zih2BCoGAQhAAAKnCJS8McjzzFDsCFQMAhCAAAROESh5Y5DnmaHYEagYBCAAAQicIlDyxiDPM0OxI1AxCEAAAhA4RaDkjUGeZ4ZiR6BiEIAABCBwikDJG4M8zwzFjkDFIAABCEDgFIGSNwZ5nhmKHYGKQQACEIDAKQIlbwzyPDMUOwL1Ujb7Ky/aJda7l7oozQ4IrJ/vendQ7vVC/RX0d7n0W6/X/k/sqOSNQZ5nhmJHoN5h3/xy2R63TZjdNSvUPzCl9+ysMvFHEdg+o23Cozp5Xp1wBV+6/7wGqJwlUPLGIM8zQ7EjUM/aN79Znn3c8fp9Zh85C/Ve3et0cu9N/lv/t97rv28ZVz/z1pHCa69L3hjkeWYodgTqKfsrXzFHLnUk5xTRx4hevL3HXPLHVOFpvv6jLnljkOeZodgRqKfMXzHN10+bvZ6ntbgiQ9WwiITh59heQTl+evuXv4NqFjzyz4Sr+XBKWPa36FtVw3172gplQ4fDUxZBr5bqp685KxX4hKX37w0obXFQv+UVZsR61frpt3y/XfCHBWen+32H566voLOUtmjGGfZpHlFZDwZ/mDMMBuEPXJa8McjzzFDsCNS86a3RpO0rXGV8130ly/HdRZH+hTisENL6pVTNGSZ4S0qTs95d1A+3W2TqrL49P/2IHyoEiS8X/Xia++ozXM1z3A9H9CpPdn92i1AhpPXL0EBI8BPd1zUX+coJQl8O/dQVvELfjHblDLvyXfeV3FduW57svgt/pl/yxiDPM0OxI1DzFr6Sw9LfBce3QqYv3T9Y3NP8fqFUn9YnLOTtReyv4yDXUo6qhUhYtrQQ1FJOn+Zb7ofMxdY2syXoz0Wp41sh05fu+/MKcd8K/rlWpWpOOC4s1zkhWUs5OitEfDnzw9Gett7qM9WGHOXI0RZOI1DyxiDPM0OxI1DzFr6qw9Jfo8e3QqYvfV4upqafG3xd0cu2YIiEpYTDZO1KlWo1JKuaO15Z8SBUTri1x5tWETkHa/b5LpR/5JSQs13OLtu35BH31V4f9Eg7SMnBmbXRp7VIX9kr9DnDSCiiszwehOst76HP9PrKDEEtcRqBkjcGeZ4Zih2BmrfwCghLHyfHt0KmL933Zvu4R9yXqg+GSFhK2JzZruJytsJZ5kzo+e7P8v0pKEdCOf2WIsHpJS2hjysiR6UUkTMs4rvuq876dsPdYbAv3keGHXon7ksuZ3jurKargtC33A+lUlveuXyv4H44SPk/3Cl5Y5DnmaHYEah5C1/eYekvoONbIdOX7nuzfdwj7kvVB0MkLCWUM0xQUI7ym9PH+0iQBKHnux9UvuX+olrYCgV92Rf0Z61MpcnZboVMX7qvOutzh7vD4LD48aD303xp5QzPDcmq46og9C33Q6nUls6VE+RhGc6S6ic7JW8M8jwzFDsCNW/hyzss1y8gJctp5x9fKlOObhAiYdkf1CcoIkfF5fRbHhn6HhzWGSao4X7XIzN//SDUhpxhnWFQknCEGlZCkGspp5f0NT1ZvpzhWX2R/iCvMPNVPBT0fM9paf2uR+TLUYUQ8aX7fTO+G/ywnJ3V4iFZSznhaFX7sU7JG4M8zwzFjkA9ZesvbN/Vq60FtSWnnb9ehiJDyfAV0/+qb1iqLxj6CZBUtjmzXcVn1VRHmb0zPGJ9Cz9ueIQn+Imz5FkPM+azmjpXTstcL4eXDZJZJ33nwzsOj/BbqM++YEibJfTnbq/gCe73zYRdP2uxFTpfl/WaQ+HPDJa8McjzzFDsCNRTFt4Op2q8nOivvNTLUaahJxDgo/sEqIdKlrwxyPPMUOwI1LP2l707/rLrnH2q6C5JgE/vn3psJW8M8jwzFDsC9Q77a14ff81F7niYSC9MgA/wn3p4JW8M8jwzFDsCFYMABC5OgEH+px5gyRuDPM8MxY5AxSAAAQhA4BSBkjcGeZ4Zih2BikEAAhCAwCkCJW8M8jwzFDsCFYMABCAAgVMESt4Y5HlmKHYEKgYBCEAAAqcIlLwxyPPMUOwIVAwCEIAABE4RKHljkOeZodgRqBgEIAABCJwiUPLGIM8zQ7EjUDEIQAACEDhFoOSNQZ5nhmJHoGIQgAAEIHCKQMkbgzzPDMWOQM3b8/72iXXl9e7wHickwzoefEhNL+K+H9T89W6fTwQCEPg2AiVvDPI8MxQ7AjVvzxst68rr3eE9TkiGdTz4kJpexH0/qPnr3T6fCAQg8G0ESt4Y5HlmKHYE6ivZemitd4f3OCEZ1vHgQ2oeL3I805vEhwAEvoFAyRuDPM8MxY5AfSVbD6317vAeJyTDOh58SM3jRY5nepP4EIDANxAoeWOQ55mh2BGoeetHyz//Z7VW7crRCSHyf6J/ZgmtWkvzyi2/l/fx7YnhCHUSHD/rSM2FXE0qJxQMLYVd70QVcCAAgT9CoOSNQZ5nhmJHoOatHy2qoaHbz90Q8SLy5bSCvvTKR0ppHHpvvR+OUII7IScslelxBWeterL7fb7vznw/Dh8CEPg2AiVvDPI8MxQ7AjVv63GiXTk6oY+0LcXlhHkW0lQwxF2+3lKmnFBTyz5BETmL5OFFQtDruH/wCjodBwIQ+GYCJW8M8jwzFDsCNW8+bNxvlRSRoxNCRD8lVlxOGHWhspaqoIjOChFlylFmi2gZHG+pr7lNliTU8eXMl1aOml/3HLpiCQEIPIlAyRuDPM8MxY5AzdvxwRNqz4SKy9kO8mGmB9vRisgJLWk5S+jjisjZFgnNhNt5HfeDqt/SuTgQgMAfIVDyxiDPM0OxI1Dz5hPF/VZJETk6QRE5C0nI8eEXtrSUsz1RCe70cj9UmUqT028pEhxJ5IQjPN60isgJNVlCAAJ/ikDJG4M8zwzFjkDNW5govgw/8p1tHYn3E04qOS0nLHWhdTMtbaZVkUUb/Zar5A+PGAaHLc0yPa6zcCAAge8kUPLGIM8zQ7EjUPPWjxD97jbMNg3aJnHhUOIJra9h2qLs8S3d249QMDieE5r0raDSss/xIu43ieeHXd9SfRwIQOCPECh5Y5DnmaHYEaiPtjB4Hl2eehCAAARehUDJG4M8zwzFjkB9tDHIH02UehCAwIsSKHljkOeZodgRqHebT2737y5MAQhAAAIvTaDkjUGeZ4ZiR6A+wvjF7SMoUgMCELgYgZI3BnmeGYodgYpBAAIQgMApAiVvDPI8MxQ7AhWDAAQgAIFTBEreGOR5Zih2BCoGAQhAAAKnCJS8McjzzFDsCFQMAhCAAAROESh5Y5DnmaHYEagYBCAAAQicIlDyxiDPM0OxI1AxCEAAAhA4RaDkjUGeZ4ZiR6BiEIAABCBwikDJG4M8zwzFjkDFIAABCEDgFIGSNwZ5nhmKHYH62sZfFffaz4fuIPCjCZS8McjzzFDsCNTXNgb5az8fuoPAjyZQ8sYgzzNDsSNQv8sYyd9FmnMgAIFvIlDyxiDPM0OxI1C/yxjk30WacyAAgW8iUPLGIM8zQ7EjUM9a/w+ltFHdx2utCvo4V1AteIUW9HxFmlCqVl+neBwfAhCAwPMIlLwxyPPMUOwI1FPm81V+mK+KtxMWS22FCprQ6lGZYasXSoIDAQhA4EkESt4Y5HlmKHYE6t2m4SpHJT0y830ke04r4hH3w26/pR5wIAABCDyJQMkbgzzPDMWOQD1r7Ztg/1a4n6YeCb7LtSVHTXnE/ZagiBwJcSAAAQg8m0DJG4M8zwzFjkA9ZT445ctRSY/MfCX7t+YKrlXalSMhDgQgAIFnEyh5Y5DnmaHYEah5C1NTSzkq6ZGZr2QGuaPAhwAEXp9AyRuDPM8MxY5AzVsYyVrKUUmPuB9mtrbkDCvMVCHetH0p1cSBAAQg8BACJW8M8jwzFDsC9ZTpN9w+RPvZGSL+C/Um7COhnVBhqPIeJO+F2sKBAAQg8BACJW8M8jwzFDsCFYMABCAAgVMESt4Y5HlmKHYEKgYBCEAAAqcIlLwxyPPMUOwIVAwCEIAABE4RKHljkOeZodgRqBgEIAABCJwiUPLGIM8zQ7EjUDEIQAACEDhFoOSNQZ5nhmJHoGIQgAAEIHCKQMkbgzzPDMWOQMUgAAEIQOAUgZI3BnmeGYodgYpBAAIQgMApAiVvDPI8MxQ7AhWDAAQgAIFTBEreGOR5Zih2BCoGAQhAAAKnCJS8McjzzFDsCFQMAhCAAAROESh5Y5DnmaHYEagYBCAAAQicIlDyxiDPM0OxI1C/3fQPpRz8d00Opn37PZ5+4OLii6172npS2Xta+mbtdQk8qfNt2W3CNz/Bbz6u5I1BnmeGYkeg5k3/9Jmc4zX8y979RYWDaYsKF91aXHyxdc9ln1T2npaOa/Vp1P9TPK5V5nUJPKPzIzWP5Ajv3+eUvDHI88xQ7AjUvPVfun1kVvV45qzCY+Ov1o/f7nhvxzO9/mv6p+8ShGF58LLnVAeLPzXtzs57eR95av8XLV7yxiDPM0OxI1DzNvwKHwb72gfTeuGTIq/Wj1/zeG/HM73+a/qn79IL+8j2yick25rfk3Bn53fKv+eOL3hKyRuDPM8MxY5Azdvsaz7E9aNOnaBIy/R8Rfqfi87SVLY5nqYtD+p0310ElVZr9fZCfNhwH3RVKxhy+iM84hdRP62mrqB81fdDlaag8lVcjucs+lR+XzxboeWrjirrLh5RcXf6BI+oskvCoQHs8OhWM1QLy/6IYan+dEWUPyyl3XDBkDzrqo8rEgq2uJf163u3IacXDnt21UX9kjcGeZ4Zih2Bmjf/ane1x0/4ByWe5qe3N4VHPPOIHyoEiS/bKR6RLydU2zbWv/tCZFE5bPly3WrIXCy11Xelrf7Kw62+wgxOKOjVXNLfMURc6H5f33eHft/8MC20N8sZxsMRoVTfc7hsvxyeMquzlXu1UCQsPXPm97e7VqTkjUGeZ4ZiR6Dmzb8mXa24nLbryyN+UM0kfnSQhKVXOPiuWVcIRXwZzuqbDBHly1HCIhK2fOm+SrmjBDna7SP9VshZLGdbIe70Fn7YUmNyQlkt5fSZx7eUKadVWy/7ExXpr6NScjx55itZzqJyKDKTeLxJFJGjUh5xfytUhUs7JW8M8jwzFDsCNW/9l2uroXj7lsL/1CHKCa8bj/fVhnIF3VEdOe0gbyZsSe7xFlREjicvavb5Eqqy5Ir0ObNIqO9L912u45QgR2nDiIQtLeQslhLKGVZYfBIklKNWe0c5zVFC6NCPW28NCwbJeqke9CHsI35K2w01XSJ/rfLd5kuoTkLcD3U/tLTYcrA6zvPDicq5tFPyxiDPM0OxI1Dz5l+crlZcju8237dmfshcp4UjlCxn+H6Rap2mXTlDoYLu9BLt+pZ8OcO0FlSOnBCfXdbz5cuZnegJ8uX0R4fTQ+bslIVqVkGl3Jkl93FF5KiOInK01ZwQXy+DdnFTzww1favvQclywilBPkubxcOJnha2hueu80NvV1yWvDHI88xQ7AjUvPVfnOFreJjQzvGtmR8y12mhfSXLCb3N8odpKiJH8j6iLTnDnBDUUs5Crhw5LdmX7ve7fs11ZtjVUs66uB+kGw0lIdPrux+K9MtZch9XRI6qKSJHW80J8fUyaEOFoFXyLB7kYekq91U2cA5Ll7i/OCVshYL9rjrp62vrck7JG4M8zwzFjkDNW/91uI747hG/daRMOcM3Rd/+8Cd4syIeD/V9y32d6EH5ckK1mUr5cjzTgzM/HORprZRHHI7Hh5nDToLq+FKZcrz+0J9dra8QMlWtOZ7vflA5nH6rLxVy+qXa8EO3vieoghzf9YY9HjrRlpyWEJY6YiYP8ZbvRUKCbw19D/rpF/JL3hjkeWYodgRq3trrw/8c1lCC7/qX7sxv+dqVE14TXtZ9f7v1ca+mgzy4bXtbc1hhptLRcpTZIsNqw2Tlq4IcLyKtHE+T32g3oZMPqvUyFGnFg8SLK8FzvHkleJ+LoNL6IsMtP/dI832+ygZn1kAfDzVDndCVkuUov6880zZJy9/KlSBVHwmllBnifc+h1OsvS94Y5HlmKHYEKgYBCEAAAqcIlLwxyPPMUOwIfH19VQwCEIAABJIEvr6+St4Y5HlmKHYEbrdbxSAAAQhAIEngdruVvDHI88xQ7Ah8fn5WDAIQgAAEkgQ+Pz9L3hjkeWYodgQ+Pj4qBgEIQAACSQIfHx8lbwzyPDMUOwJvb28VgwAEIACBJIG3t7eSNwZ5nhmKAwT4NXnFIAABCGQInPsFeSmFQV6wZxDgp+uZr19yIQABCNRzP1dnkBfseQT4ppw3EwQgAIGDBE5/O84gL9jzCLy/vx/8BJMGAQhA4IcTeH9/L2eNH62fJYfuAIHfv39XDAIQgAAElgR+//5d7jAG+R3wkB4gwA/YKwYBCEBgTuCeH6qXfxuDvHHgz2cR+PXrF7O8YhCAAARGBG63269fv8p9xiC/jx/qAwSY5RWDAAQg0BF4yBTnP3Yr2LcR4Pfl3VcxAQhA4OcSuPP34sWM78gNBu6TCby/v/Nj9opBAAI/m8Dtdrvnv1EvnTHIOyQEnkzg4+ODcV4xCEDg5xG43W6n/9aXMjcG+ZwNO88k8Pb29vHx8fn5ebvd+PfLKwYBCPyNBL6+vm632+fn58fHx7m/R70cMAb5AUikQAACEIAABF6VAIP8VZ8MfUEAAhCAAAQOEGCQH4BECgQgAAEIQOBVCTDIX/XJ0BcEIAABCEDgAAEG+QFIpEAAAhCAAARelQCD/FWfDH1BAAIQgAAEDhBgkB+ARAoEIAABCEDgVQkwyF/1ydAXBCAAAQhA4AABBvkBSKRAAAIQgAAEXpUAg/xVnwx9QQACEIAABA4QYJAfgEQKBCAAAQhA4FUJMMhf9cnQFwQgAAEIQOAAAQb5AUikQAACEIAABF6VAIP8VZ8MfUEAAhCAAAQOEGCQH4BECgQgAAEIQOBVCfwv9xvdaOPeCyAAAAAASUVORK5CYII=)"
      ],
      "metadata": {
        "id": "gQYUfhuHRwb8"
      }
    },
    {
      "cell_type": "markdown",
      "source": [
        "OUTPUT GERADO:\n",
        "\n"
      ],
      "metadata": {
        "id": "DimktUQHTmQc"
      }
    },
    {
      "cell_type": "markdown",
      "source": [
        "![image.png](data:image/png;base64,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)\n",
        "![image.png](data:image/png;base64,iVBORw0KGgoAAAANSUhEUgAAAkcAAAI0CAIAAACYlxrPAAAgAElEQVR4Ae2dTXIcR9JtuYAeqyAQNBo2INNOuJlvogGHHPVYW+AinnEXWoDGPdYC8Ezy5u1L98jI36rKrDwwWrWHh7uHxwkwbmcBLL17/f51mfb1n9//NS1wYdTb29vCzHVp775+VgG35TyK8fbP16xu78V8VpPN4Jt1voBqs+FbOiuc6rllP6wFgesR+K5jf//vOw0mrndtVbtcLnf5u/fu62f9mYhih2HLLt+7AN+K3g2aX0Z1qw0uq1OxVM+yymRBYIcEJGRLVG2H+6ElCEAAAhA4MwFU7cynz94hAAEIPBoBVO3RTpT9QAACEDgzAVTtzKfP3iEAAQg8GgFU7dFOlP1AAAIQODMBVO3Mp8/eIQABCDwaAVTt0U6U/UAAAhA4MwFU7cynz94hAAEIPBqBG6naf37/V/+fbA/N6p+Lyni0E2A/EIAABCCwHYEbqdpow01VS0qWhqM1CYAABCAAgbMRWKVq8QTmz2Edj8imGB8mbUsyloYqiAEBCEAAAhAIAhuoWhQKQZIsyfDZZHuM2xHW1LCmM+J5hQAEIAABCKxVNREMWariFAHuly3jcrm4HSlNAWs61QMGBCAAAQicnACqdvJvALYPAQhA4KEIoGoPdZxsBgIQgMDJCaxVNf2uR3CsbyQqQFPViHcgI9LPI73fmIYeiQ0BCEAAAhC4XC5rVe2qEJOMpeFVl6Y4BCAAAQgckcCuVc3/W9hI2hG/vegZAhCAwI0JrFK1G/fKchCAAAQgAIE+AVStz4dZCEAAAhA4EgFU7UinRa8QgAAEINAngKr1+TALAQhAAAJHIoCqHem06BUCEIAABPoEULU+H2YhAAEIQOBIBFC1I50WvUIAAhCAQJ8AqtbnwywEIAABCByJAKp2pNOiVwhAAAIQ6BNA1fp8mIUABCAAgSMRQNWOdFr0CgEIQAACfQKoWp8PsxCAAAQgcCQCqNqRToteIQABCECgTwBV6/NhFgIQgAAEjkQAVTvSadErBCAAAQj0CaBqfT7MQgACEIDAkQigakc6LXqFAAQgAIE+AVStz4dZCEAAAhA4EgFU7UinRa8QgAAEINAngKr1+TALAQhAAAJHIoCqHem06BUCEIAABPoEULU+H2YhAAEIHIbA05m+hk4FVRsigx8CEIDAkQicSdH+u9fm8aBqTSw4IQABCByMAKoWB4aqHewbl3YhAAEINAmgaoEFVWt+e+CEAAQgcDACfVX78uXLN/v666+/+vGHmG2eEKrWxIITAhCAwMEIdHTo06dP3759SwH3ErYN122e0FpV+/e//325XOK1uQBOCEAAAhC4AYEkWhp++vQpHtS+/PMlf1Nd/vr+pbCO0azQiX96emqmhLM51a/WpIqqNbHghAAEIHAwAk0BCCXzV4mHDCVWj6auaixet3lCy1Xt3+WruQBOCEAAAhC4AYGm8FTB+PLly6dPn+pjU42MmHh4i+LfH+T++zM5DWuMmlFMp1osrddOisqG0aS6XNWi3Og7kEn74u1Kd+I5CY3m9x9OCEBgKwLpxo9h1apP/3xNUTXPleR42RqQyjYDJG9qWMVTfBoqXkYT3XJV87s47OYCOCEAAQhA4AYEdNe74cIQ/vjNkfQztqRGEem5YcvjQ3+0SnUUX/11yh/4hpTPt/b09NSkulzV9Esi/V8VSeLHk5kDORWN5vcfTghAYCsC6cavyhSe+OWReBPSU5KoVB1yj1RN4lQNj6+24jWVGqhD7zbsJrqrq1pzVZwQgAAEILAtgXrpSzB86tu3b1XSIiCExOVEnhSQhinFl/MKbkdv7nGlVEEP8LJhNwGuUrVmRZwQgAAEIHB7AvXSD8+3H7++fPkyFDnq9wes0eCVAVPWakJG1ZpYcEIAAhA4GIGVKjIlfYrSTKkzFKMns4kLNU8IVWtiwQkBCEDgYASGpOKB/c0TQtWaWHBCAAIQOBiBB1avoa01TwhVa2LBCQEIQOB4BIZu/4f0Dx0PqjZEBj8EIAABCByPAKp2vDOjYwhAAAIQGCKAqg2RwQ8BCEAAAscjgKod78zoGAIQgAAEhgigakNk8EMAAhCAwPEIoGqDZ7bmI5v7n405uCQTEIAABCCwjsBaVZv1X6JZ12rO1scE54nueFlWt2RjElVrQMEFAQhA4PoEbqFqaRfSFV391eMfZp/S61B1lFVj5FGwDGXJo348qzo1K0MxnVIKDsMj5VlQp+6ierysrxv+1BhDCEAAAkcksFzV0hWpWzJRqH55phhxNaeaaag6usdTgA8VLKM521y3maJ0nw27ehQsQzHJqBUiRWGqMOT3SK/mthfxePdjQwACEDgQgeWqFpscuiKFwMXPUxQwqh+d23bBQ4b6SQ1Uf123elIRDYVFZYdy5U+GKkTNKXVUQSm1H9FW8GhlFcGAAAQgsH8Cy1XNb8Owm7vV7anZuZ4ar1JhjAZ4fAR7yhRbYuClkl3ruCcFa6iYZMTQXyNFYarghh+ER3qdak+p7KtgQwACENgtgeWqpoveb8+6zzo711Pj0yoe4Nd6CouhgpuGnNqdiviUnG4oQD3I8LBke1ZMhae+RkuKT3U0VIAM7aXWVMyUVrUEBgQgAIHdEriFqsWN6RdowqEp96csnwq7GTB6O/taslUqPGkoOZlSXBVSk1orbaS5VtKhKQ2ojtdPTu9N/ShGHq+ADQEIQOBYBFap2rG2SrcQgAAEIPDwBFC1hz9iNggBCEDgRARQtRMdNluFAAQg8PAEULWHP2I2CAEIQOBEBFC1Ex02W4UABCDw8ARQtYc/YjYIAQhA4EQEULUTHTZbhQAEIPDwBFC1hz9iNggBCEDgRARQtRMdNluFAAQg8PAEULWHP2I2CAEIQOBEBParakMf4DTk3+GhHajVHdKjJQhAAAILCKxVtbi4r3F9N2s2nb7tGqDPOfSwTewpa9WYTZamCAQgAAEINAncQtWqrsgTl35nmFRBw0iJLclWNW1V8fq8YE0lwyPTVAzVpIappleQLaNZ051DkdqdPuPYs5I9VERhaRfyY0AAAhB4DALLVU33o4wmkXrPuidseWQkwYjKPusB8oehYepnyN8snnJ96KsM1XS/215H6wrgUKT8MmodVRuaSv7RUimeIQQgAIFDEFiuarG9uBw7V2Rc2c7CgzvpHuZrpVI1zANkd8JcVCaGqWzTSEXScEpKjakYU8zmu0j1GUIAAhA4BIHlqpau0f7d7ZeyR4btHlGrzqanOlVBxvoYr+C2lpBRZ6tHwXpTUTB9ym0H6P5kj66l+H6kwjAgAAEIHIvAclXTe4AT70eFuRG2PM6uOpNHQxmeLrs/OzFMRfrqojCVFSX3JLuZ5TEKkOGzbvcDNNvfhRfEhgAEIHAsAldXteZTiG7VuGd12zq7ocSIUQU97niubBXxeM3OMrxUM9EDtCMZzZRw9mO8c7c7BTtT3mQnjCkIQAACByWwStXW77l/odf6c+NrhRt7DtfwjfmwHAQgAIFtCRxM1aa8obctoDXVkLQ19MiFAAQgsIDAnVVtQcekQAACEIAABIYIoGpDZPBDAAIQgMDxCKBqxzszOoYABCAAgSECqNoQGfwQgAAEIHA8Aqja8c6MjiEAAQhAYIgAqjZEBj8EIAABCByPAKp2vDOjYwhAAAIQGCKAqg2RwQ8BCEAAAscjgKod78zoGAIQgAAEhgisVbX4+Aw+RGOIL34IQAACELglAVTtlrRZCwIQgAAErktguar5p7+v/yz56+6S6hCAAAQgcA4Cy1Ut+Iy+A5nET//hGPnxCIVgPqTnHH+h2CUEIHBnAstVzW/esO+8FZaHAAQgAIHTE1iuavqPwvR/VSSJH09mDuRUNE7/dw0AEIDALQhcXdVusQnWgAAEIAABCPxDYJWqwRACEIAABCCwKwKo2q6Og2YgAAEIQGAVAVRtFT6SIQABCEBgVwRQtV0dB81AAAIQgMAqAqjaKnwkQwACEIDArgigars6DpqBAAQgAIFVBFC1VfhIhgAEIACBXRFA1XZ1HDQDAQhAAAKrCKBqq/CRDAEIQAACuyKAqu3qOGgGAhCAAARWEUDVVuEjGQIQgAAEdkVgF6r29v1rV2hoBgIQgAAEDkdgrap916O32LmGb2+DnsvlorDES1nJP2UYNb2NTtboQkMddmoyBQEIQAACdyewStVcG8KWZ4oR8uYIlOXO6bbSZQzljgYocXqkUjAgAAEIQOBeBNaqmp5p4vavGtD3aNaftJosfCFl1cht64xWqw3ggQAEIACBOxJYq2qp9ao3fU+aTcNUfMpwog71F/JZt6c0QAwEIAABCNyRwFpVS5d+Gtb3GJMnxaehc5nyrKZ0GV7B7X6AZidqpFfGhgAEIACBOxJYpWr+ex+hBNIDbal6PCvCpFjKWmC4Arm9oJR32Ox/WU2yIAABCEDg2gTWqtq1+6M+BCAAAQhAYDoBVG06KyIhAAEIQGDvBFC1vZ8Q/UEAAhCAwHQCqNp0VkRCAAIQgMDeCaBqez8h+oMABCAAgekEULXprIiEAAQgAIG9E0DV9n5C9AcBCEAAAtMJoGrTWREJAQhAAAJ7J4Cq7f2E6A8CEIAABKYTQNWmsyISAhCAAAT2TmC/qvaoH1U1tK8hv76DakD1KHhzo65VPb5of9YjsSEAAQhsSODAqrbJp0duiHJiqeZ133SqYMz2Xy+Xy5+//hZ/lLiJ0V9XndfVNbVJGxSBAAQgMIXAWlWr0pI8GuqOqx7/NGG3I1LbUKI8Yahy8k8cqqzqVE+zlMI0K0+U6gy1VuRqGClyJr+GTimC//z1N7XhtpwyvIicbqhtOUc9vqLs0YVUHwMCEIDAVgRWqZpfwdGQX2RhyzPFiMu6lnJ/sutwLppmY9WZyipAfveELY+MZrc+6wHyh9F/VRvx0ObDZKts8tdhf0Wf9Vypmu/FA7AhAAEIXI/AWlVLnfmNOXTreUyk61HAZTKF+VC2x6dOOpVTpFdTlmI0K49i0pQPw3aP0quz6Wk6VUQ9JE9f0pqcawUP0+yUfurqNUsFMSAAAQhcg8BeVK3uLV2IPnR7/QOBqlVjtLjLqtKV5R5tsDqbnupUhY7hz0lDYf3KPuv2UDX319XnVvBq2BCAAAQWENiLqtXrL3l86LYkpLl5f+xIWYqXvxpe3AVMuSkg/IpUwWa8nClMQxmK7BtVVJrx/bKa1S6aRaqzubqq1Xg8EIAABK5BYJWqxZ2err8Y6jqToe6rx+toNtXxmChVA7TELMNXTJU1pdVVubl6OCNYr0pJxd2vhVShrujx1davIK7/NUhtTV3V5ZKnufr09FSNIQQgAIHFBNaq2uKF95y4/jqeW2Fu/J7pqbeH3JR2hwEBCOyTAKrWOJf11/GCCgtSGq3vxvVg29kNVxqBAARGCKBqI4CYhgAEIACBAxFA1Q50WLQKAQhAAAIjBFC1EUBMQwACEIDAgQigagc6LFqFAAQgAIERAqjaCCCmIQABCEDgQARQtQMdFq1CAAIQgMAIAVRtBBDTEIAABCBwIAKo2oEOi1YhAAEIQGCEAKo2AohpCEAAAhA4EAFU7UCHRasQgAAEIDBCAFUbAcQ0BCAAAQgciACqdqDDolUIQAACEBghgKqNAGIaAhCAAAQORABVO9Bh0SoEIAABCIwQQNVGADENAQhAAAIHIoCqHeiwaBUCEIAABEYIoGojgJiGAAQgAIEDEUDVDnRYtAoBCEAAAiMEULURQExDAAIQgMCBCKBqBzosWoUABCAAgRECqNoIIKYhAAEIQOBABFC1Ax0WrUIAAhCAwAgBVG0EENMQgAAEIHAgAqjagQ6LViEAAQhAYIQAqjYCiGkIQAACEDgQAVTtQIdFqxCAAAQgMELgRqr2n9//9Z/f/9XpZWj27e1NWe++fr5cLvEq592NG/QzcYld8fGDu/sZ0QAEIHAeAjdStVGgTVVLN2O6td99/aw/o/VnBUwvO1FvZq3eDJ6yUOLTrHMl59v3L6+fjs+nsCEAAQhcicAqVYsnMH8O63i0gRTjw6Rt6VpMt3a96KVGmqqeeNoLv1oaMlRnYoCWU3zyaKgGtIQbHhalNJsqa6in2BrpMdX+rkf/fSbWUPCr53K5yJkKKiti0ixDCEAAAtcmsIGqRYshSJIlGT6bbI9xO8L8fgxPeq3XtzxTDMlAKutD1XGn7DQroWoGRPDQqzdTY6Lg6HJad7rhkMOWZ4pRpUtZ0UMaTm+MSAhAAALLCKxVNa0aslTFKQLcL1vG5XJxO1JGL8SJDzTqMAzXBrdrWGe2lnJZUimvEPbQq6fXmOZyWmWNoUeuMKpKjXp0TKrg/WjWndgQgAAErkfg2KqWuLiKxFTfU2dHC3pASk9DFyrZEVNfFSDDY4b24s0ss6vqzPWk+P5wWZNkQQACEJhOAFXrsapC5dFpNg2lT5HiKlVtD27OeoAK1hW9vXjMSjIzGlDj+5402x+m1RlCAAIQ2JzAWlXT73pEZ/WNRAVoqhrxDmRE+g7TFelTccvrTciYqrd89XhiKqhhKit/NVL9mpg8EZ9eR2OqpGkXtSX3NN8V9AApnyIr8+rxrKgW6SkyDdO6DCEAAQhcg8BaVbtGT6q5/2sxqZo639xYtpC0avN+phTc//FN2QUxEIDAsQjsWtWav6qwN77L9GbWLpYtgaTNgkwwBCDwGARWqdpjIGAXEIAABCDwMARQtYc5SjYCAQhAAAIXVI1vAghAAAIQeBwCqNrjnCU7gQAEIAABVI3vAQhAAAIQeBwCqNrjnCU7gQAEIAABVI3vAQhAAAIQeBwCqNrjnCU7gQAEIACBG6la/TSshF4fo5X8/vkU8Y+Rl/2T5FR2V8OtdrQ3Pn52E4EvSJlYmTAIQOAkBG6kaqM0m6qW7rh0a+vjE7dShdEmrxSwVf+Jz5W6nV42HV9N5NMjKxM8EIDASgKrVK35ycVyRmdp6B9kHEqmgDB8P+laTLd2UwwkdVFHQwW7pzp99WQrUf7k0bCWlUefShweTxmK0XLJiFx3qqY7R+0qLcmjoY6jetLnHXuAslKMN5ZifAobAhCAwCwCG6harCeJ8qFa8Ucx2TIW/1dDVT+MJAz+Ufea8qtfTtWpHlVOUz4MW54pRrM3tSFDpeSRUVVNU9ONkB+PrwIjzxTDP7pT8VHfh257So303rAhAAEIjBJYq2paIKma/GE0BazpVGK6+OSX4Q864XQNCNs9HpNmaymt4lnu9MqpmsI8RnXqWv0wVbuGUSG7J2z3RA9Njz+fNcM8S3aV1Spy19g4NSEAgUclcGxVS6fi8tBXGp+tWamsP1dpqma5J8KmeGpxz3JbS29oSF1U0z1huyfCpniqOHmW2/1INYYBAQhAYAoBVO0i5ei8p6cYMXVP2O6JsKan6VRZF7lOPxFWS3mdUIukHzWg44ncWqHpaTq9uAe4jao5JWwIQGAlgbWqpt/1iD78TUV5hmI8OMVEbrr70labd7re34vgGhMef5VCTFERLzhxrdp2TUxLK8CXa9ZJzjRsvr/XjHHUei8xIn1qyCMF9RVTHY9RHY+XMwxeIQABCCwgsFbVFiw5PaXep9NziZSKHAsFh36s86JbCOyNwK5Vrb43tTd8e+6nPgbtudvoDUnb/xnRIQR2TmCVqu18b7QHAQhAAAJnI4Cqne3E2S8EIACBRyaAqj3y6bI3CEAAAmcjgKqd7cTZLwQgAIFHJoCqPfLpsjcIQAACZyOAqp3txNkvBCAAgUcmgKo98umyNwhAAAJnI/BQqqZP6Oh8JMfZDpj9QgACEDgVgRupWv1vpyXK/ulZPuX/LDd9zJWHha2ABaomRaxlZ3lG64wGzFrOg7V9d97GHv1wrGYbNasZNt3p3y3Ts44VuWCPNaV6jgWBbiHQIXAjVet0EFNNVUt/9+qtHQpxPZ0YbXtZwJUarnyWtbc4K53XxI+GqVnLGtiqjq++ue568WX26DabPdes6lnWD1kQ2BuBVaqmjySWJnU82nmK8aHqRHD6i5du7RiqbBjSOfmrR1NDKenzjl2EfNFUOQ07xf2D+VMz04feldaaW1k3oFBXT7MlhfmsisiZPFOyaswUT1XQlKWhWqoefXKmYoY2Iv+QoeIKSB4NtVb1pH48QFkpRsslIB4fMdXjudgQOC6BDVQtNh+CJFmS4bPJ9hi3I2z0b50LTKT4a5LA0eveq1VbHhl1rfB4gNseP9pMCm4Oq6o1w/pOQXbD7X76rKszLuVaUMs1q/ls5LpHtoyhGAVMMVIndVh34Z66Uy2qUvJMMZTlxtBO1Ykq18ghj3IxIHBcAmtVTTsPWariFAHuly3jcrm4HSnp76QWcqM+HskTiuK64rYXCdtnqy2PjFAmLaeCNUBTWshj0uyNh4JcjXqBem/+3CC/ijQ9dTbC3F/tpkLU1T0xOk8xKaC5O4+RXRvQ7oYM5SrAPWG7p3KQJ+2itu11ZDd71myzKzkxIHB0AsdWNdEPnXC1GPIoJRkpN8mVZquRHrwUoPpRyoey727opqtGvUDVrYJTjPsj2D1uq1Sngsf7Ne1+1UnONEyr1N6qJ1VIQ63bNGqwe8J2T119yFM34nXc7kd26jd3hBMCByLwmKomIXGNcbuekM+6HZHyNA05k8JpFQ+Qc6WhPXbquBg0w3QPVsOvxVTHg2V7vNbqz0bYUIz7vXhqphaJ4KH0Zm+1SCe92YDKeqtyerWw3VNXl2c0zAPcrm2k2RqgbjEgcGgCa1VNv+sRFOobiQrQVDXiHciIdJr176HP6nHKNaM65fFctxWgOu4Jp3uUm5xp6G9RKmVI9jxgoh3L9YOn379CHSkpMQ0lG/LXrOrxrGh7VozvdCixE6MNKqZ6Oh0qSzHuqbY61FTy1NWrR2tFbpRKdTxmKCBi1InCkochBB6DwFpVuyqF5t/zq64YxSVvG4rQDdquS/htWGebnnsxbzYzy3mzzhdQnbWRawRXONVzjXWpCYHbE9i1qjX/P+YNGNWnrhssuvkSyy7fQ192N2h+GdXND3dWwYqlemYVJBgCeyawStX2vDF6gwAEIACBExJA1U546GwZAhCAwMMSQNUe9mjZGAQgAIETEkDVTnjobBkCEIDAwxJA1R72aNkYBCAAgRMSaKva09PTCVmwZQhAAAIQODSBp6entqo9Pz8femM0DwEIQAACJyTw/PzcVrWXl5cT4mDLEIAABCBwaAIvLy9tVfv48eOhN0bzEIAABCBwQgIfP35sq9rr6+v79+9PSIQtQwACEIDAQQm8f//eJe319fWdj3lcO+i50jYEIACBcxJID2pZ1V5fXz98+HBONOwaAhCAAASOReDDhw/+YBb2D89q4eLXRo51rnQLAQhA4IQE0i+JSN4aqsYT2wm/P9gyBCAAgQMRaD6lDT6rxcTHjx/55ZEDnTGtQgACEDgDgffv39efpelBrfFzNZ97fX39+PHjy8vL8/Mznzxyhm8X9ggBCEBghwSenp6en59fXl76ejbyrJbkjSEEIAABCEBg/wTaP1fbf990CAEIQAACEKgEULXKBA8EIAABCByVAKp21JOjbwhAAAIQqARQtcoEDwQgAAEIHJUAqnbUk6NvCEAAAhCoBFC1ygQPBCAAAQgclQCqdtSTo28IQAACEKgEULXKBA8EIAABCByVAKp21JOjbwhAAAIQqARQtcoEDwQgAAEIHJUAqnbUk6NvCEAAAhCoBFC1ygQPBCAAAQgclQCqdtSTo28IQAACEKgEULXKBA8EIAABCByVAKp21JOjbwhAAAIQqARQtcoEDwQgAAEIHJUAqnbUk6NvCEAAAhCoBK6iam8/ftVV5YlADWUM+RWwN2Nuw3Pjr7Hf9T2srxD78jpup9k6tQBLv0h/dsFypEAAAjcmsLGqxaXw9vambbgtZxidG6QzlYrsZDir4VnB19vg+jbWV6jfCammD91ejGW0yGjA4qVJhAAEbkBgkqq9+7//N7GVrW6ErepMbHt92KyGZwWv722owk7aeH197XTSmRraV98/WnA0oF+fWQhA4L4ExlXt3f/9v/gzpdHOjRBTHuC2rrahsBTszdSUVE1DGf4EWdOneLyU4qMrDX0VNRyzGqY6GirA42tl98Ry8tQKaSqGCtPS1a8YVfC1YtanfNYhqLKCPXfITllqxhuWU5XruqNTqYiGGBCAwIEIjKiaJG2usOkmqiw0JaNeTz6lCk1n5EaMAmSkXN10HlCdPqsKzSVqrsc361RnLaIYGVpdRmR5QN/urJJq6jh8L01nf8Whsv1OvGZatDOVWvXEyKqLekzHrpXxQAACeybQU7UkadPfh9QdoavEEehukqF4hfnUdKeyZAzlKkCG9+BOVQhDUzKS3+NTTDPSY5IdLalgmg22TafvJdk+HMr1GK3edA5VmOL3gkPxHtOxvUnZqikjpjSUkfxpIRXEgAAEDkGgp2qvr68ubAv24xdH2HpNd4dHNqc80TuRX0bMNodKjFktpOAqFalaSqwFa03FeCk5fWkV9yL9yJpSV/EYVXYj2XVYe+iv4isO2b7KlBiPT7bakz8KNk9Ta8no78WLY0MAAvsnMKJqErZlO9HFIUP3jhvJ9mEz0ZvxAPeHrVkZfX+arUPVkZFi3O92hPnWUqIC5I9g+UerecCQ7Q1MidHqbihRhpedaHvYUB2P6djqrVnHnV5kyO8xqowBAQgchcC4qs3aSXrLUReHDL8yqlPpmpLhid6SB7g/bM3KUJ3m/5FPWXWoOmGsb1gFvXk5ZahtD0vOoeDqr3uPGN9OWsiHKihj8060XH8JNRzxzeBwKlIx1d9cVE4MCEDgEAS2VzVdFro+AkT19wPSNaT0ilVTzZTm6orUdezNuN1MbzpV0/uR09tO9T1e/Sjeg1NkCq6RU/pMC3kRTdU67plrT99FZ4OaSg17ccFPzqZfm00F5ceAAAQOQWBjVdvtnnd1Vd24mRsv1/ke2E8nRz/C8DUAACAASURBVG+y0z9TEDg5AVTtPt8At7zfb7lWn+Z+Ohnqc/8dDnWOHwIQCAKo2uN/J+znpt5PJ49/6uwQAmclcBZVO+v5sm8IQAAC5yKAqp3rvNktBCAAgccmgKo99vmyOwhAAALnIoCqneu82S0EIACBxyaAqj32+bI7CEAAAucigKqd67zZLQQgAIHHJoCqPfb5sjsIQAAC5yKAqp3rvNktBCAAgccmMKJqLy8vz8/PT09Pl8vlp59+uvAFAQhAAAIQuCGBkJ6np6fn5+eXl5dRSR5UtQ8fPvz888837JylIAABCEAAAiMEfv755w8fPnS0ra1q79+/HynMNAQgAAEIQOBOBN6/fz8kbA1Ve35+vlOfLAsBCEAAAhCYROD5+bkpbFnVeEqbhJMgCEAAAhC4N4HmE9sPqvbhw4d7N8n6EIAABCAwg8DTmb4ql/ozth9UjV8PqcjwQAACENgtgTMp2n/3ms7i559/Tu9D/k/VXl5eUjRDCEAAAhDYMwFU7XK5pF/3/5+q8Usie/7epTcIQAAClQCqdrlc0q+N/E/V4p9aV2p4IAABCEBgnwT6qvbly5dv9vXXX3/14w8xWw/i6enJ34T8n6rVUDwQgAAEILBnAh0d+vTp07dv31LAvYRtw3Wbx9FWtet9INZff/3V7AMnBCAAAQisIZBES8NPnz7Fg9qXf77kb6rLX9+/FNYxmhU68U9PT82UcDan+tUqrp9++qmtajV0Kw+qthVJ6kAAAhBwAk0BCCXzV4mHDCVWj6auaixe17cve7mqSZ++S/t//zdKN52Xy0VZ6gADAhCAAATWE2gKTxWML1++fPr0qT421ciIics8iutiT8Mao2Y8xW0vHkvr1cPcVk0ZTWhrVS2plIZh+Gssr4BmNzghAAEIQGAZAd31blSt+vTP1xRV81xJThRPQ69WszxFdg0LAVPzdagpGU1Qy1UtHrykUlLUWMb1TDE8qzXPACcEIACB9QR017vh4hH++M2R9DM2lyWle27Y8vhQl38kKibVTP40jODkTEM1JqMJbRtVk24lw7UtlldAsxucEIAABCCwjIDuejdcGMIfvzwSb0KmyBTsw7Dl0TB5+kqm5ZrPYdWp4qms6jRBrVW1KCqtlmi5nsnJs1rzDHBCAAIQWE9Ad70bLgzh//btW5W0mPKbPHn6QxektKJq6mlMAZoKj17lrynRhl6b0LZRtWZpnBCAAAQgcDMCuuuT8e3Hry9fvqSA6UMJ0vSUxZFT1mqyXa5qIafNojghAAEIQODGBBbrx/TEKUozvVqN1FPaxIWahJerWrMcTghAAAIQuAuBKhIP72lyRtWaWHBCAAIQOBiBh9ewusHmCaFqTSw4IQABCByPQL33H9gzdDyo2hAZ/BCAAAQgcDwCqNrxzoyOIQABCEBgiACqNkQGPwQgAAEIHI8Aqna8M6NjCEAAAhAYIoCqDZHBDwEIQAACxyOAqh3vzOgYAhCAAASGCKBqQ2TwQwACEIDA8Qigasc7MzqGAAQgAIEhAqjaEBn8EIAABCBwPAKo2vHOjI4hAAEIQGCIAKo2RAY/BCAAAQgcjwCqdrwzo2MIQAACEBgigKoNkcEPAQhAAALHI4CqHe/M6BgCEIAABIYIoGpDZPBDAAIQgMDxCKBqxzszOoYABCAAgSECqNoQGfwQgAAEIHA8Aqja8c6MjiEAAQhAYIgAqjZEBj8EIAABCByPAKp2vDOjYwhAAAIQGCKwF1V7+/411Oh5/N9JvJ1ny+wUAhCAwFYEdqRqaUt//vrbn7/+lpyjw8ialbggRW3MbVJrjXb49oaqCTMGBCAAgakElqvau6+f3339HOu4PXXlH+PSJR6X/ujV/2ONi8e7ncKGhnNTIn5W1vTgBGSoZ/wQgAAEIOAElqva5XJxVfOiC+zmJT5dA+qKC3JnpShYRu2heqYHN4HUgnggAAEIQMAJrFK1EDZpm9eVHY9xepU/Gc1LfLoGpGpzExe8kagVZ62ldyCVPmQ0gQwF44cABCAAgSBwdVWbCLp5ic8SDC20LOty+eENTFVrGhInGc2wjnO0ySaQTkGmIAABCEDgcrmsUjU9pcmoTPWU1v/ZW/MST1d/v0IsnVKmPE2qZ8+dslZdccOsJhC1igEBCEAAAk0Cy1XNb3C3m8uMOtMlrmegMCJ9dJWVWd7k6FoKnqWF6lDpQ7qbgHg8NgQgAAEIDBFYrmpDFZf5ucQTN4AkIAwhAAEITCGwI1WLf308penHjuFfYT/2+bI7CEDgqgT2ompX3STFIQABCEDgJARQtZMcNNuEAAQgcAoCqNopjplNQgACEDgJAVTtJAfNNiEAAQicggCqdopjZpMQgAAETkIAVTvJQbNNCEAAAqcggKqd4pjZJAQgAIGTEEDVTnLQbBMCEIDAKQigaqc4ZjYJAQhA4CQEULWTHDTbhAAEIHAKAqjaKY6ZTUIAAhA4CQFU7SQHzTYhAAEInIIAqnaKY2aTEIAABE5CAFU7yUGzTQhAAAKnIICqneKY2SQEIACBkxBA1U5y0GwTAhCAwCkIoGqnOGY2CQEIQOAkBFC1kxw024QABCBwCgKo2imOmU1CAAIQOAkBVO0kB802IQABCJyCAKp2imNmkxCAAAROQgBVO8lBs00IQAACpyCAqp3imNkkBCAAgZMQQNVOctBsEwIQgMApCKBqpzhmNgkBCEDgJARQtZMcNNuEAAQgcAoCj6Bq775+vvZZLV7i7fvXtTs8c/3vjN/ODIG9QwACQWCVqr37+ll/Ngf656+//fnrb6NlF+vNaOUUsGyht7dJV+3EzaaWfBgV9OpTfTstvaBC1L9SncvlMrGliaj7NJiFAASOTmCtqqX9S+SkAdVzuVzkTOkahp4tULVaOXk0DCOaiXWbPbtT7Sles2lKwylX7fTNqmzfmMItKqSlPdHt/nIhPHpNwSvrJLFMxX04BbXHY0MAAg9JYHtVC0y67juGK0oT7uiFqOJatHpUOaaGXr2ZGqP6qiZtdk+1R69a7VFGLTLLs6COUtyQPX31ZkrT2a/pKW73s0ZR99OZhQAEHoPAWlXTo0/gSKLiUiFeHuO2AmSM3mgpPQ3T6jE79OrBNWZod2p1yOhftb5Bt4eqTfEvqKOUMPx1yoqKUZ3wTH/MUgUlyqO3H1NxBcjoo1YYBgQg8NgE1qpaotPXlQj2GLdTqaF3tDwspaehC5XsiKmvCpDhMbVzb6Nj969av7IXa4CvPnr1e7BsZXkPcips1GimNJ39Up4yZNcKfdQ1Hg8EIPCQBFC1v3/IF0ebjFFV00/mOt8Z069av76nVG4u6kVCnrWpZnw4lSUj/V+Kif14upZz54I6ni67WWc6avWGAQEIPB6BtaoW94uuThkiVT26bZtTkZgeYlStGqlI6qeuFfHpNWWl2Vg0LaTKtSX3TL9qdWVPrOyrhO0VwtO8/T2xcpbHw+5YJ/TVHyKH+ExH7VvDhgAEHozAKlXbA4sqNlfqatlCXLVXOo5aFtSVCR4InJDA4VUt/p/7tU9umaRdLhf+gfC1jwbINyDMEhA4EIFHULUD4aZVCEAAAhC4KgFU7ap4KQ4BCEAAAjclgKrdFDeLQQACEIDAVQmgalfFS3EIQAACELgpAVTtprhZDAIQgAAErkoAVbsqXopDAAIQgMBNCaBqN8XNYhCAAAQgcFUCqNpV8VIcAhCAAARuSgBV+xt3/ayprQ6Bf4W9FclOHSB34DAFgbMRWKVq+szA66nCbc7jev3Xj3EStKGtKWC0q/TpiEMFO/4pa82NGW2700/zUx9T/FA/FXVKZAgBCJyBwFpVq4x06cSUhrrs3FOdtaA8ShzyKKCWlSfdm54yFKPlkhG5yZmG6apNS6TgGHpMM8DDJgYP1ZmSPiXG68+NH8odqjPkT6i9LDYEIHAeAhurmt84YcuTjDQr4gqTJ4wqIR6ZqmmqY/gbjwpLi3pMc6qTGPGdq3Yod8jvDShGhs9Ot6ekT4nRirOClSXDT3mo1JC/g1r1MSAAgYcnsFbV9KwTpPzGCds9HpNmVafGe5afh0emagrzGNWpa/XDVG2BMXTV1hVVXO3JkwzPdTuFTRmOrpUebUdrruxnynJDPQ+hHu2ZAAhA4JEIrFW1xMIvtbDdE8Hud9tnU9nmM5NXrnWGqnmWVklOH7qt+OlG86qdWHMoTNe6jOn9DEUOreXxozGjAV6taatCbK0ZI6eCw9NErWAMCEDgJAT2pWqduyxdYUnnYrYfEyfaXCIlatgM1ndGfzbC6lWr4qN1aqRSZHjM6H/bU1nV8DpD+/KYWiGdyNB/27OZKKcvIXtiPxW1ymJAAALnIbCxqtV3kHQ3iWl4/NWzarwnpgsuhkqR4SmyZShL8fJ0YjQlIzUjvxvpqtVCnuu2o/A6Q7a2sFhF0upqQCuqZ3mahncSActUti6XOqwBsVxC3WwSJwQg8PAEVqnaw9NZv0Gu2vUMJ1YA9URQhEHgsQmgatc9X/6B8HX5/lMdyDeAzBIQOAoBVO0oJ0WfEIAABCAwTgBVG2dEBAQgAAEIHIUAqnaUk6JPCEAAAhAYJ4CqjTMiAgIQgAAEjkIAVTvKSdEnBCAAAQiME0DVxhkRAQEIQAACRyGAqh3lpOgTAhCAAATGCTy4qunjLd59/TwOgwgIQAACEDg4gbupmvRGAMPj8lNjFDzRiGrr60xcjjAIQAACELgvgVWqlhRozU681Jo6u8r95fc//M+ueqMZCEAAAg9JYHtVS49cGkq35HGgmg3nUEz4lVjDlnlUcJaRmhnK/eX3PzRVRU6zMi6Xi8KUiAEBCEAAAlMIbKxqLk5hyyMj2tJQOlRFQjGjH0gfkbWCI1CMnF5fzulGfznVSXIVfjk7Rsib6mBAAAIQgMAogVWqFmKjV2mPhMqnUitJUdIwgt3ptkppoZidG9OMV/GtDOlWU6U064ae1eTcqhnqQAACEHhsAturWuI1pBzJn4ZRxJ1uD83OjanxqflNhq5MbkdxeaqxyeoUgQAEIHAqAturWpKKNBTc5E/DCHOn22lW7wTOjanxam+KoXX7wZKrWc9q/ZrMQgACEIBAk8BaVavvMY6+K5gCoq0kMEMxSUhqmDzarTxaQh7FLDOizmjuqKrp/UaVksdzNYsBAQhAAAJDBDZQtaHS9/JLve7VAOtCAAIQgMC9CDyaqiFp9/pOYl0IQAACeyDwaKq2B6b0AAEIQAAC9yKAqt2LPOtCAAIQgMD2BFC17ZlSEQIQgAAE7kUAVbsXedaFAAQgAIHtCaBq2zOlIgQgAAEI3IsAqnYv8qwLAQhAAALbE0DVtmdKRQhAAAIQuBcBVO1e5FkXAhCAAAS2J4Cqbc+UihCAAAQgcC8CqNq9yLMuBCAAAQhsTwBV254pFSEAAQhA4F4EULV7kWddCEAAAhDYngCqtj1TKkIAAhCAwL0IoGr3Is+6EIAABCCwPQFUbXumVIQABCAAgXsRQNXuRZ51IQABCEBgewKo2vZMqQgBCEAAAvcigKrdizzrQgACEIDA9gRQte2ZUhECEIAABO5FAFW7F3nWhQAEIACB7QmgatszpSIEIAABCNyLAKp2L/KsCwEIQAAC2xNA1bZnSkUIQAACELgXAVTtXuRZFwIQgAAEtieAqm3PlIoQgAAEIHAvAqjavcizLgQgAAEIbE/gEVTt3dfP24P5seLiJd6+f/1Y74yj7yTezrh59gwBCNyKwCpVe/f1s/5s3vCfv/4Wf/qVF+tNv2ydXbbQ29vIJa5t/vnrb3XRjkeJozEKmJJyuVxSWBqqWjJqWPVcLpdRIKksQwhAAAKzCKxVtbSYRE4aUD2Xy0XOlK6hX/FuK0CGFgpPrZw8GoYRzShXhofJGYZeVUGeaoxe4v3d1YLh8Sy3PT78zdmms1nZI932hUII5YkwD3Z7FIjqYEAAAhBYQGB7VYsmJDYdwxWl07rfiSlMxbVo9SglpoZevZkao/qqJm12T7VHL/HO7mo1eeIxKIb9Cs3ZplPFZaRVpmc1dS7KjgLR6hgQgAAEFhBYq2p6pom1k6i4VKg5j3FbAW70b9KUnoZp9ZgdevXgGjO0O2+1aY9e4s236ZqlknNiYgLoQpUKpmEk1tcUloa+nDp05yiQVJAhBCAAgVkE1qpaWqyvKxHsMW6nUun/79dZ16FauXqqVrnHq7nfO3S72U91Tr/E/eqvdZJHwaMqpUiv0HQ2A7z+9Cwvlc5xOpBUhCEEIACBKQT2q2qjd6jrUGy1qo57wh569Wo1pll/k5+r6ZCm7LcZ3E9szjado8WnZ6lUkjR+W8TJYEMAAtcgsFbVFrwDGfrRlwR/86p/mbpuNSs3O0y6NRrjmqdj6G8hwkYfTbRTlZ1ojCYqIIwQGNlDq1w7axTIUGP4IQABCEwhsErVpixw7ZikatdbbtlCXOLpRACSgDCEAAS2JXB4VWs+RW3LaM0S/NNjnQUohAIDAhC4HoFHULXr0aEyBCAAAQgciwCqdqzzolsIQAACEOgRQNV6dJiDAAQgAIFjEUDVjnVedAsBCEAAAj0CqFqPDnMQgAAEIHAsAqjasc6LbiEAAQhAoEcAVevRYQ4CEIAABI5FAFU71nnRLQQgAAEI9Aigan/T6X8oV4/f2Bz/9FiEQCEUGBCAwPUIrFI1/8zA67V4g8pXVbXR/oWxE1k/v3F6lnanFHnqiorxqabTA8KOMPmbWXxilvhgQAAC1yCwVtVqT+ku01A3qXuqsxaUR4lDHgXUsvKkD/n1lKEYLZeMyE3ONBy9xNOiKT2GEZMifdjJGqrQTHGn6k/Zpp53PUvV5OQz+8UEAwIQuBKBjVXN76+w5UlGmtX2FCZPGPVu9chUTVMdQxexG2nR0SnVr4nh2UTVRECrjK6rSM+dlaVgGammDxVTjcRwFIiXxYYABCAwl8BaVdOzTiysS013mXs8JvyaVR150k6q3z1hu8fX8lK+kOJlKNLD5FxgTLnEJ67lTU5MiYaVqKz+RiJMMcpSHU2l+jp0+ZWrlClAFIwBAQhAYC6BtaqW1vOLL2z3RLD73fbZVDZdlzWy1qkxQ55a3Ht2u3Y16pl1iffX8tkhu/bjkZptOjUbhmJkVFCKlHolRVSAis8CoiwMCEAAAhMJ7EvVmndi7MTv1uqJ2X6MskbDFNDpJ654RQ7hnn6Jj5bygCE7teFhPjXkb8Z4sNseLLsGJM90IKqJAQEIQGA6gY1VTXe97jIZ6ik8/upZNd4Tk8zEUCkyPEW2DGUpXp5OjKZkpGbkd2P0Eq9Le3rYivEV5azxQ1mjKX4QXnZKohaV4d2q2igQRWJAAAIQWEBglaotWO9sKVzi6cQBkoAwhAAEtiWAqm3LM1fjnx6LCCiEAgMCELgeAVTtemypDAEIQAACtyaAqt2aOOtBAAIQgMD1CKBq12NLZQhAAAIQuDUBVO3WxFkPAhCAAASuRwBVux5bKkMAAhCAwK0JoGq3Js56EIAABCBwPQKo2vXYUhkCEIAABG5NYGNVe/f187uvny+XS7zeejesBwEIQAAC5yawvaqFpC1QNSniyhMZrTMasLKBWem//P5H/JmVRTAEIAABCDQJrFW1UIhd6URzn8l5m4alWL/8/kdqIA1HA1I8QwhAAAIQaBJYpWrNBzLpnNarHk2F0QyQU4aClV6nwqMAPTjWVqvHs6bYda2U1dQqSZ0Hp8gaUz2ejg0BCEAAAkFge1UT2ZANFw+3FSbDZ6stjwwlph/jeYDbHp9S0tTE4TJVU3FXsiE7gvuzKogBAQhAAAKrVK35JKTnp1AU1xW3K3qfrbY8Mnz15FTxpvA0nUrZ0NADVpIl+bVWDdDU5XJRfBg+hQ0BCEAAAk5graqpVuhKVZfqUUoyUqTUMcI0W4304KUA1U8yVgMUua3hWhWV3TNkK1IBMrZtj2oQgAAEHo/AtVRNQuIS4nZF6bNuR6Q8TUPOpHBaxQPkXGloj0N1qhrJk5665PdScqZgj8GGAAQgAAEnsErV9DjlmlGd8vjCbitAddwTTvcoNznT0N+iVMqQ7HnARDuW6wRLljzG305M7y5GmAI6WT6FDQEIQAACIrBK1VRlc0PytqEIbd4kBSEAAQhAYG8E9qtqevDaGzL6gQAEIACB3RLYqartlheNQQACEIDAngmgans+HXqDAAQgAIF5BFC1ebyIhgAEIACBPRNA1fZ8OvQGAQhAAALzCKBq83gRDQEIQAACeyaAqu35dOgNAhCAAATmEUDV5vEiGgIQgAAE9kwAVdvz6dAbBCAAAQjMI4CqzeNFNAQgAAEI7JkAqrbn06E3CEAAAhCYRwBVm8eLaAhAAAIQ2DMBVG3Pp0NvEIAABCAwjwCqNo8X0RCAAAQgsGcCqNqeT4feIAABCEBgHgFUbR4voiEAAQhAYM8EULU9nw69QQACEIDAPAKo2jxeREMAAhCAwJ4JoGp7Ph16gwAEIACBeQRQtXm8iIYABCAAgT0TQNX2fDr0BgEIQAAC8wigavN4EQ0BCEAAAnsmgKrt+XToDQIQgAAE5hFA1ebxIhoCEIAABPZMAFXb8+nQGwQgAAEIzCOAqs3jRTQEIAABCOyZAKq259OhNwhAAAIQmEfgEVTt3dfP8zY9P3rxEm/fv+av+WgZ30m8PdrG2A8EILAnAqtU7d3Xz/qz7ab+/PW3+DNadrHejFZOAcsWenv74RKfvq+0+uVymQhEiVrrz19/k3OKocQpwRGjlNEmE5DpSxAJAQhAYAqBtaqW1pDISQOq53K5yJnS63D0RtZCkVsrJ4+GYUQzypXhYXKGoVdVkKcaQ5f46L5SqYiflTUrWMuNypIih4z+ukNAhqrhhwAEIDCLwPaqFstLbDqGK8pQ0/0rUsW1aPWockwNvXozNUb1VU3a7J5qD13i/X2lOgqWkQKaw1nBqrAsa3r6EBBVwIAABCCwhsBaVdMzTTSRRMWlQl16jNsKCGPKQ0NKT8O0eswOvXpwjRnaXeq5DuslPmVfXsdlxm2Padqx0KwUvc85t0k1MLpcBaJcDAhAAALrCaxVtdRBX1ci2GPcTqVi2L8lU3oaulDJjpj6qgAZHlM7b3ZbnUOXeH9fXkfiJMNnp9jT1wpVU81ZiSlXRZIxBCSFMYQABCCwjACq9vcP+YJdMkZVbaufq02pEx26zFwpy5eQPXEtxYunkOq7E1UTCgwIQOAaBNaqWtx3urxkqNfqiYeh/kU5/bkk1U/91LUiPr2mrDQbe0kLqbJ22jTSJd7cVx+Fl3XZGM1avFZNHF2r+aDWzEpAfHfYEIAABNYTWKVq65dfX6GKzfqazQrLFuISTzABkoAwhAAEtiVweFXTj8G25ZKqLZO0y+XCPz0WSVAIBQYEIHA9Ao+gatejQ2UIQAACEDgWAVTtWOdFtxCAAAQg0COAqvXoMAcBCEAAAscigKod67zoFgIQgAAEegRQtR4d5iAAAQhA4FgEULVjnRfdQgACEIBAjwCq1qPDHAQgAAEIHIsAqnas86JbCEAAAhDoEUDV/qbjn0TVozV/jn96PJ/ZKTL4xjjFMbPJexBYpWr6wMDrqcJtmFyv//oBUYLW2VqKScNIbDprzQirfvd4jMo2nZ7ltme5P9kKC38aujMl+lBZYfiU2wqTs8ZXj4Jl1DqakpFi0jDCms767aGaGBCAwDICa1Wtrpr+9moo5XBPddaC8ihxyKOAWlaeeDKLSLflieIqpbWqkVJqQHxilvtTGz4luxOjqSlL6xlUWVrCjZhtxtSpZpgW8rLV9ly3Pb2uWOu4J9XRlPu95pBficmo8SlA30LyN1OazvrtoSIYEIDAYgIbq1r92ytPMmIopzZQPTFV73GPTNU01THqZaoe3FAFdw61VGM6/2e8U1l1UoyGMhRZDcXImBXTzGo6nWRdQh4/wVSnP1SFZKSsNKuhh7kdAdWjxKRYQ5HJr6HvN9XUsPPtoRgMCEBgFoG1qhZ/df1vspYPp6aafs2qjjyKD6P63RO2ezpZda1mosJSJ7OGQ9dWXbGW9ZhoRjHqzWM0m2RmWUzNqh6tqH7kaRo1LO0rsjoLedkpYSkmDRMoLy679qypMBQQxeurx6cGhr49PAUbAhCYRWCtqqXF/C+t//X2MPe7HTFeoWYNeWqdoWrN+snpQ7d99Yl289qaUrMZI6eMoXvZr9qmcuhBxCO1Ka8/RFLBbtREzWqq9qOp6WulFK3iRo2Z4mlWqD0rzGsKZsz6VPOkmt8eqowBAQgsILAvVZt4d8Q+/coI2z01Rp7RMAV0+pEq9KHXa0vFlVhXqTFqPhnNu1KVm8HN4snZH6b6PvTEtK80NZQ1ZUc1Jq1VAyqKIc9QY+o/rSV/LJqGquZ+Oeu3h6YwIACBZQQ2VjX9xdbfYRnqLzz+6lk13hPrheKemls9zbWiiAfL4051EoYvnaY0TNeWl1XlVKfGyKOyvgt3Nm0tpKwalmI8QKunPpsx1Vk9WkuVFSNPZ63YhVLCSPG1zhRPqumV1XOToYr3U1IYvy3SBI4TAisJrFK1lWufIT2p2hm2zB6nE+DbYzorIiEwkQCqNhHUwjD+se1CcI+exjfGo58w+7sbAVTtbuhZGAIQgAAENieAqm2OlIIQgAAEIHA3Aqja3dCzMAQgAAEIbE4AVdscKQUhAAEIQOBuBFC1u6FnYQhAAAIQ2JwAqrY5UgpCAAIQgMDdCKBqd0PPwhCAAAQgsDmBjVXt3dfP775+vlwu8bp5uxSEAAQgAAEIdAhsr2ohaQtUTYrYaXfK1Gid0YApq2wV88vvf8SfrQpSBwIQgMCZCaxVtVCIXenElOO8TcNSrF9+/6Pf1WhAP51ZCEAAAhAIAqtUrflAJp0T4urRVBjNADllKFjpdSo8CtCDY221ejxril3XSllNrZLUeXCKrDHV4+nYEIAABCAQBLZXNZEN2XDxcFthMny22vLIUGL6MZ4HaLPh3gAAAtZJREFUuO3xKSVNTRwuUzUVdyUbsiO4P6uCGBCAAAQgsErVmk9Cen4KRXFdcbui99lqyyPDV09OFW8KT9OplA0NPWAlWZJfa9UATV0uF8WH4VPYEIAABCDgBNaqmmqFrlR1qR6lJCNFSh0jTLPVSA9eClD9JGM1QJHbGq5VUdk9Q7YiFSBj2/aoBgEIQODxCFxL1SQkLiFuV5Q+63ZEytM05EwKp1U8QM6VhvY4VKeqkTzpqUt+LyVnCvYYbAhAAAIQcAKrVE2PU64Z1SmPL+y2AlTHPeF0j3KTMw39LUqlDMmeB0y0Y7lOsGTJY/ztxPTuYoQpoJPlU9gQgAAEICACq1RNVTY3JG8bitDmTVIQAhCAAAT2RmC/qqYHr70hox8IQAACENgtgZ2q2m550RgEIAABCOyZAKq259OhNwhAAAIQmEcAVZvHi2gIQAACENgzAVRtz6dDbxCAAAQgMI8AqjaPF9EQgAAEILBnAm1Ve3p62nPT9AYBCEAAAhCoBJ6entqq9vz8XKPxQAACEIAABPZM4Pn5ua1qLy8ve+6b3iAAAQhAAAKVwMvLS1vVPn78WKPxQAACEIAABPZM4OPHj21Ve319ff/+/Z5bpzcIQAACEICAE3j//r1L2uvr6zsf87jmsLAhAAEIQGDnBNKDWla119fXDx8+7HwPtAcBCEAAAhC4XC4fPnzwB7Owf3hWCxe/NsK3CwQgAAEI7JxA+iURyVtD1Xhi2/lZ0h4EIACBkxNoPqUNPqvFxMePH/nlkZN/37B9CEAAAnsj8P79+/qzND2oNX6u5nOvr68fP358eXl5fn7mk0f2drT0AwEIQOAkBJ6enp6fn19eXvp6NvKsluSNIQQgAAEIQGD/BNo/V9t/33QIAQhAAAIQqARQtcoEDwQgAAEIHJUAqnbUk6NvCEAAAhCoBFC1ygQPBCAAAQgclQCqdtSTo28IQAACEKgE/j8ulWLB9dKb6AAAAABJRU5ErkJggg==)"
      ],
      "metadata": {
        "id": "-42vw8IrTxGO"
      }
    },
    {
      "cell_type": "markdown",
      "source": [
        "EXECUTANDO O OUTPUT"
      ],
      "metadata": {
        "id": "LchSc6hFUKRw"
      }
    },
    {
      "cell_type": "code",
      "source": [
        "import numpy as np\n",
        "\n",
        "# Criando vetores arbitrários (poderiam ser aleatórios também)\n",
        "x = np.linspace(1, 5, 5)   # [1, 2, 3, 4, 5]\n",
        "a = np.array([2, 2, 2, 2, 2])  # constante\n",
        "b = np.array([3, 3, 3, 3, 3])  # constante\n",
        "\n",
        "print(\"x =\", x)\n",
        "print()\n",
        "\n",
        "# =============================\n",
        "# Erro 1: Cancelamento incorreto\n",
        "# (a+bx)/a  ≠  1+bx\n",
        "# =============================\n",
        "erro1 = 1 + b * x\n",
        "correto1 = (a + b * x) / a\n",
        "forma_correta = 1 + (b * x) / a\n",
        "\n",
        "print(\"Erro 1 (comum):\", erro1)\n",
        "print(\"Forma correta :\", forma_correta)\n",
        "print(\"Verificação   :\", np.allclose(correto1, forma_correta))\n",
        "print()\n",
        "\n",
        "# =============================\n",
        "# Erro 2: Quadrado de uma soma\n",
        "# (x+a)^2  ≠  x^2 + a^2\n",
        "# =============================\n",
        "erro2 = x**2 + a**2\n",
        "correto2 = (x + a)**2\n",
        "\n",
        "print(\"Erro 2 (comum):\", erro2)\n",
        "print(\"Forma correta :\", correto2)\n",
        "print(\"São iguais?   :\", np.allclose(erro2, correto2))\n",
        "print()\n",
        "\n",
        "# =============================\n",
        "# Erro 3: Raiz de uma soma\n",
        "# sqrt(x^2 + a^2) ≠ x + a\n",
        "# =============================\n",
        "erro3 = x + a\n",
        "correto3 = np.sqrt(x**2 + a**2)\n",
        "\n",
        "print(\"Erro 3 (comum):\", erro3)\n",
        "print(\"Forma correta :\", correto3)\n",
        "print(\"São iguais?   :\", np.allclose(erro3, correto3))\n"
      ],
      "metadata": {
        "id": "iIcas8efUUVS",
        "outputId": "6d1fd680-935a-4e85-e4d1-897ed491713b",
        "colab": {
          "base_uri": "https://localhost:8080/"
        }
      },
      "execution_count": 3,
      "outputs": [
        {
          "output_type": "stream",
          "name": "stdout",
          "text": [
            "x = [1. 2. 3. 4. 5.]\n",
            "\n",
            "Erro 1 (comum): [ 4.  7. 10. 13. 16.]\n",
            "Forma correta : [2.5 4.  5.5 7.  8.5]\n",
            "Verificação   : True\n",
            "\n",
            "Erro 2 (comum): [ 5.  8. 13. 20. 29.]\n",
            "Forma correta : [ 9. 16. 25. 36. 49.]\n",
            "São iguais?   : False\n",
            "\n",
            "Erro 3 (comum): [3. 4. 5. 6. 7.]\n",
            "Forma correta : [2.23606798 2.82842712 3.60555128 4.47213595 5.38516481]\n",
            "São iguais?   : False\n"
          ]
        }
      ]
    },
    {
      "cell_type": "markdown",
      "source": [
        "O CHATGPT ESTA CORRETO ?"
      ],
      "metadata": {
        "id": "lw3xNjJtUgL5"
      }
    },
    {
      "cell_type": "markdown",
      "source": [
        "O chatgpt gerou resultados muito positivos, as questoes feitas por ele conseguiram ser feitas e transparecidas.Os codigos utilizados estavam todos corretos e conseguiram verificar os Common Algebraic Errors na pergunta 2 e Gerar vetores numéricos na pergunta 3.\n",
        "Portanto, o resultado obtido pela LLM está correto e a avaliação confirma que as propriedades foram verificadas de forma adequada"
      ],
      "metadata": {
        "id": "_EJakevyUmPS"
      }
    }
  ]
}