{
  "nbformat": 4,
  "nbformat_minor": 0,
  "metadata": {
    "colab": {
      "provenance": [],
      "include_colab_link": true
    },
    "kernelspec": {
      "name": "python3",
      "display_name": "Python 3"
    },
    "language_info": {
      "name": "python"
    }
  },
  "cells": [
    {
      "cell_type": "markdown",
      "metadata": {
        "id": "view-in-github",
        "colab_type": "text"
      },
      "source": [
        "<a href=\"https://colab.research.google.com/github/Lucass0021/Checkpoint1_MMC_2SEM/blob/main/1Checkpoint_ModelagemMatem%C3%A1tica_Semestre2.ipynb\" target=\"_parent\"><img src=\"https://colab.research.google.com/assets/colab-badge.svg\" alt=\"Open In Colab\"/></a>"
      ]
    },
    {
      "cell_type": "markdown",
      "source": [
        "**Importando Bibliotecas**"
      ],
      "metadata": {
        "id": "Q2IGtWyDv06L"
      }
    },
    {
      "cell_type": "code",
      "execution_count": 1,
      "metadata": {
        "id": "S5Lpcx3Iu0Wm"
      },
      "outputs": [],
      "source": [
        "import sympy as sp\n",
        "import numpy as np"
      ]
    },
    {
      "cell_type": "markdown",
      "source": [
        "Integrantes do Grupo:\n",
        "\n",
        "*   Massayoshi Bando Fogaça e Silva | RM: 561779\n",
        "*   Nome | RM:\n",
        "\n"
      ],
      "metadata": {
        "id": "WorsOKBx29Tw"
      }
    },
    {
      "cell_type": "markdown",
      "source": [
        "**Atividade Parte 1**"
      ],
      "metadata": {
        "id": "K5JiIMdMwDR1"
      }
    },
    {
      "cell_type": "markdown",
      "source": [
        "Pergunta 1 (2 pontos): Escolher uma propriedade de cada uma dessas seções: Arithmetic Operations, Exponent Properties, Properties of Radicals, Properties of Inequalities, Logarithm Properties (5 no total) e verificá-las utilizando Python."
      ],
      "metadata": {
        "id": "y-94I73RwH_w"
      }
    },
    {
      "cell_type": "code",
      "source": [
        "# Arithmetc Operation\n",
        "\n",
        "a, b, c, d = sp.symbols('a b c d', nonzero=True)\n",
        "\n",
        "ex_1 = a/b + c/d\n",
        "ex_2 = (a*d + b*c)/(b*d)\n",
        "\n",
        "print(f\"Primeira Expressão: {ex_1}\")\n",
        "print(f\"Segunda Expressão: {ex_2}\")\n",
        "print(\"As expressões são equivalentes? \", ex_1.equals(ex_2))"
      ],
      "metadata": {
        "colab": {
          "base_uri": "https://localhost:8080/"
        },
        "id": "CTaKarSJwVHZ",
        "outputId": "2337661e-8b6b-4f4e-9d6c-c1e80995a4c6"
      },
      "execution_count": 2,
      "outputs": [
        {
          "output_type": "stream",
          "name": "stdout",
          "text": [
            "Primeira Expressão: a/b + c/d\n",
            "Segunda Expressão: (a*d + b*c)/(b*d)\n",
            "As expressões são equivalentes?  True\n"
          ]
        }
      ]
    },
    {
      "cell_type": "code",
      "source": [
        "# Exponent Properties\n",
        "\n",
        "a, m, n = sp.symbols('a m n', positive=True)\n",
        "\n",
        "ex_1 = (a**m)**n\n",
        "ex_2 = a**(m*n)\n",
        "\n",
        "print(f\"Primeira Expressão: {ex_1}\")\n",
        "print(f\"Segunda Expressão: {ex_2}\")\n",
        "print(\"As expressões são equivalentes?\", ex_1.equals(ex_2))\n"
      ],
      "metadata": {
        "colab": {
          "base_uri": "https://localhost:8080/"
        },
        "id": "_mxWi_beyMK6",
        "outputId": "afeceb38-6a6a-4682-a6b9-5d05319cd1a0"
      },
      "execution_count": 3,
      "outputs": [
        {
          "output_type": "stream",
          "name": "stdout",
          "text": [
            "Primeira Expressão: a**(m*n)\n",
            "Segunda Expressão: a**(m*n)\n",
            "As expressões são equivalentes? True\n"
          ]
        }
      ]
    },
    {
      "cell_type": "code",
      "source": [
        "# Properties of Radicals\n",
        "\n",
        "a, m, n = sp.symbols('a m n', positive=True)\n",
        "\n",
        "ex_1 = sp.root(sp.root(a, n), m)\n",
        "ex_2 = sp.root(a, m*n)\n",
        "\n",
        "print(f\"Primeira Expressão: {ex_1}\")\n",
        "print(f\"Segunda Expressão: {ex_2}\")\n",
        "print(f\"As expressões são iguais? \", ex_1.equals(ex_2))"
      ],
      "metadata": {
        "colab": {
          "base_uri": "https://localhost:8080/"
        },
        "id": "0ThVL0sxzRoT",
        "outputId": "253382f5-e916-41ca-e274-cd54d0ac49f0"
      },
      "execution_count": 4,
      "outputs": [
        {
          "output_type": "stream",
          "name": "stdout",
          "text": [
            "Primeira Expressão: a**(1/(m*n))\n",
            "Segunda Expressão: a**(1/(m*n))\n",
            "As expressões são iguais?  True\n"
          ]
        }
      ]
    },
    {
      "cell_type": "code",
      "source": [
        "# Properties of Inequalities\n",
        "\n",
        "a, b, c = sp.symbols('a b c', real=True)\n",
        "\n",
        "ineq1 = sp.Lt(a, b)      # a < b\n",
        "cond = sp.Gt(c, 0)       # c > 0\n",
        "ineq2 = sp.Lt(a*c, b*c)  # ac < bc\n",
        "\n",
        "print(\"Se a < b e c > 0, então ac < bc ?\", sp.Implies(sp.And(ineq1, cond), ineq2))"
      ],
      "metadata": {
        "colab": {
          "base_uri": "https://localhost:8080/"
        },
        "id": "8Ub8Z84x0Idw",
        "outputId": "f42ba53e-e745-49bf-a772-35ce4e303ff0"
      },
      "execution_count": 5,
      "outputs": [
        {
          "output_type": "stream",
          "name": "stdout",
          "text": [
            "Se a < b e c > 0, então ac < bc ? Implies((c > 0) & (a < b), a*c < b*c)\n"
          ]
        }
      ]
    },
    {
      "cell_type": "code",
      "source": [
        "# Logarithms Properties\n",
        "\n",
        "a, b = sp.symbols('a b', positive=True)\n",
        "\n",
        "ex_1 = sp.log(a/b)\n",
        "ex_2 = sp.log(a) - sp.log(b)\n",
        "\n",
        "print(f\"Primeira Expressão: {ex_1}\")\n",
        "print(f\"Segunda Expressão: {ex_2}\")\n",
        "print(\"As expressões são iguais? \", ex_1.equals(ex_2))"
      ],
      "metadata": {
        "colab": {
          "base_uri": "https://localhost:8080/"
        },
        "id": "hlfRBeIK0dIf",
        "outputId": "a84cd031-b292-48cc-ecc9-fed869c96b0b"
      },
      "execution_count": 6,
      "outputs": [
        {
          "output_type": "stream",
          "name": "stdout",
          "text": [
            "Primeira Expressão: log(a/b)\n",
            "Segunda Expressão: log(a) - log(b)\n",
            "As expressões são iguais?  True\n"
          ]
        }
      ]
    },
    {
      "cell_type": "markdown",
      "source": [
        "Pergunta 2 (2 pontos): Sobre o mesmo PDF, escolher 3 erros algébricos comuns (Common Algebraic Errors) e verificá-los utilizando Python."
      ],
      "metadata": {
        "id": "6g4JLwWa2bu0"
      }
    },
    {
      "cell_type": "code",
      "source": [
        "# Definindo símbolos\n",
        "x, a = sp.symbols('x a', real=True)\n",
        "\n",
        "# 1. Erro de potência\n",
        "errado1 = x**5\n",
        "correto1 = (x**2)**3\n",
        "print(\"Erro 1 - Potência:\")\n",
        "print(f\"Incorreto: (x^2)^3 = {errado1}\")\n",
        "print(f\"Correto: (x^2)^3 = {correto1} = {sp.simplify(correto1)}\\n\")\n",
        "\n",
        "# 2. Erro de distribuição\n",
        "errado2 = x**2 + a**2\n",
        "correto2 = (x + a)**2\n",
        "print(\"Erro 2 - Distribuição:\")\n",
        "print(f\"Incorreto: (x + a)^2 = {errado2}\")\n",
        "print(f\"Correto: (x + a)^2 = {correto2} = {sp.expand(correto2)}\\n\")\n",
        "\n",
        "# 3. Erro de radiciação (exemplo numérico)\n",
        "print(\"Erro 3 - Radiciação:\")\n",
        "val_x, val_a = 3, 4\n",
        "errado3 = val_x + val_a\n",
        "correto3 = sp.sqrt(val_x**2 + val_a**2)\n",
        "print(f\"Incorreto: √({val_x}^2 + {val_a}^2) = {errado3}\")\n",
        "print(f\"Correto: √({val_x}^2 + {val_a}^2) = {correto3}\\n\")\n"
      ],
      "metadata": {
        "id": "p5QwOL5QA4Kw",
        "outputId": "2d48a36a-d80f-463d-f7e8-047bf512bed2",
        "colab": {
          "base_uri": "https://localhost:8080/"
        }
      },
      "execution_count": 7,
      "outputs": [
        {
          "output_type": "stream",
          "name": "stdout",
          "text": [
            "Erro 1 - Potência:\n",
            "Incorreto: (x^2)^3 = x**5\n",
            "Correto: (x^2)^3 = x**6 = x**6\n",
            "\n",
            "Erro 2 - Distribuição:\n",
            "Incorreto: (x + a)^2 = a**2 + x**2\n",
            "Correto: (x + a)^2 = (a + x)**2 = a**2 + 2*a*x + x**2\n",
            "\n",
            "Erro 3 - Radiciação:\n",
            "Incorreto: √(3^2 + 4^2) = 7\n",
            "Correto: √(3^2 + 4^2) = 5\n",
            "\n"
          ]
        }
      ]
    },
    {
      "cell_type": "markdown",
      "source": [
        "Pergunta 3 (3 pontos) – Verifique essas propriedades utilizando numpy (numérico). Gere vetores numéricos e verifique as igualdades do slide anterior.\n",
        "\n",
        "Definir vetores arbitrariamente. Podem ser aleatórios."
      ],
      "metadata": {
        "id": "oZkLyNcdEk9D"
      }
    },
    {
      "cell_type": "markdown",
      "source": [
        "Associatividade da adição"
      ],
      "metadata": {
        "id": "kTmSlAltFbMO"
      }
    },
    {
      "cell_type": "code",
      "source": [
        "a, b, c = np.random.randint(-9, 10), np.random.randint(-9, 10), np.random.randint(-9, 10)\n",
        "\n",
        "print(f\"Exemplo: ({a} + {b}) + {c} = {a} + ({b} + {c})\")\n",
        "lado_esquerdo = (a + b) + c\n",
        "lado_direito = a + (b + c)\n",
        "print(f\"→ {lado_esquerdo} = {lado_direito}   {(lado_esquerdo == lado_direito)}\\n\")"
      ],
      "metadata": {
        "id": "lFJz5hruFjxv",
        "outputId": "59c59035-8166-4aa2-f01c-b7c4047539e0",
        "colab": {
          "base_uri": "https://localhost:8080/"
        }
      },
      "execution_count": 8,
      "outputs": [
        {
          "output_type": "stream",
          "name": "stdout",
          "text": [
            "Exemplo: (6 + 4) + -4 = 6 + (4 + -4)\n",
            "→ 6 = 6   True\n",
            "\n"
          ]
        }
      ]
    },
    {
      "cell_type": "markdown",
      "source": [
        "Comutatividade da adição"
      ],
      "metadata": {
        "id": "X7VuFQc1FnXr"
      }
    },
    {
      "cell_type": "code",
      "source": [
        "a, b = np.random.randint(-9, 10), np.random.randint(-9, 10)\n",
        "\n",
        "print(f\"Exemplo: {a} + {b} = {b} + {a}\")\n",
        "\n",
        "lado_esquerdo = a + b\n",
        "lado_direito = b + a\n",
        "print(f\"→ {lado_direito} = {lado_esquerdo} {(lado_esquerdo == lado_direito)}\\n\")"
      ],
      "metadata": {
        "id": "gy0P07vFFpPb",
        "outputId": "a5d0bbea-8b32-48e8-d6cd-70f4db1ea05b",
        "colab": {
          "base_uri": "https://localhost:8080/"
        }
      },
      "execution_count": 9,
      "outputs": [
        {
          "output_type": "stream",
          "name": "stdout",
          "text": [
            "Exemplo: -7 + 2 = 2 + -7\n",
            "→ -5 = -5 True\n",
            "\n"
          ]
        }
      ]
    },
    {
      "cell_type": "markdown",
      "source": [
        "Elemento identidade da adição"
      ],
      "metadata": {
        "id": "eoRF8KoYFraa"
      }
    },
    {
      "cell_type": "code",
      "source": [
        "a, b = np.random.randint(-9, 10), 0\n",
        "\n",
        "print(f\"Exemplo: {a} + {b} = {a}\")\n",
        "\n",
        "lado_esquerdo = a + b\n",
        "lado_direito = a\n",
        "\n",
        "print(f\"→ {lado_direito} = {lado_esquerdo} {(lado_esquerdo == lado_direito)}\\n\")"
      ],
      "metadata": {
        "id": "atzfJOTLFtW7",
        "outputId": "884778cb-db66-400a-adf1-f2f1219b1345",
        "colab": {
          "base_uri": "https://localhost:8080/"
        }
      },
      "execution_count": 10,
      "outputs": [
        {
          "output_type": "stream",
          "name": "stdout",
          "text": [
            "Exemplo: -6 + 0 = -6\n",
            "→ -6 = -6 True\n",
            "\n"
          ]
        }
      ]
    },
    {
      "cell_type": "markdown",
      "source": [
        "Elemento inverso da adição"
      ],
      "metadata": {
        "id": "TIZnJ0M7FvSV"
      }
    },
    {
      "cell_type": "code",
      "source": [
        "a = np.random.randint(-9, 10)\n",
        "b = a\n",
        "\n",
        "print(f\"Exemplo: {a} + {-b} = {0}\")\n",
        "\n",
        "lado_esquerdo = a + (-b)\n",
        "lado_direito = 0\n",
        "\n",
        "print(f\"→ {lado_direito} = {lado_esquerdo} {(lado_esquerdo == lado_direito)}\\n\")"
      ],
      "metadata": {
        "id": "SyTZlbgbFwzN",
        "outputId": "ce2f71c2-1828-4700-807d-89da64636aab",
        "colab": {
          "base_uri": "https://localhost:8080/"
        }
      },
      "execution_count": 11,
      "outputs": [
        {
          "output_type": "stream",
          "name": "stdout",
          "text": [
            "Exemplo: -7 + 7 = 0\n",
            "→ 0 = 0 True\n",
            "\n"
          ]
        }
      ]
    },
    {
      "cell_type": "markdown",
      "source": [
        "Compatibilidade da multiplicação por escalar com a multiplicação do corpo."
      ],
      "metadata": {
        "id": "n2tIuaY4FysO"
      }
    },
    {
      "cell_type": "code",
      "source": [
        "a, b, c = np.random.randint(-9, 10), np.random.randint(-9, 10), np.random.randint(-9, 10)\n",
        "\n",
        "print(f\"Exemplo: {a} x ({b} x {c}) = ({a} x {b}) x {c}\")\n",
        "\n",
        "lado_esquerdo = a * (b * c)\n",
        "lado_direito = (a * b) * c\n",
        "\n",
        "print(f\"→ {lado_esquerdo} = {lado_direito}   {(lado_esquerdo == lado_direito)}\\n\")"
      ],
      "metadata": {
        "id": "Os33eIWCF06Y",
        "outputId": "a3b174ce-4ed9-41ff-b4c4-e0ab675059c7",
        "colab": {
          "base_uri": "https://localhost:8080/"
        }
      },
      "execution_count": 12,
      "outputs": [
        {
          "output_type": "stream",
          "name": "stdout",
          "text": [
            "Exemplo: -3 x (-8 x -4) = (-3 x -8) x -4\n",
            "→ -96 = -96   True\n",
            "\n"
          ]
        }
      ]
    },
    {
      "cell_type": "markdown",
      "source": [
        "Elemento identidade da multiplicação por escalar."
      ],
      "metadata": {
        "id": "VGC3nysZF2bK"
      }
    },
    {
      "cell_type": "code",
      "source": [
        "a, b = np.random.randint(-9, 10), 1\n",
        "\n",
        "print(f\"Exemplo: {a} * {b} = {a}\")\n",
        "\n",
        "lado_esquerdo = a * b\n",
        "lado_direito = a\n",
        "\n",
        "print(f\"→ {lado_direito} = {lado_esquerdo} {(lado_esquerdo == lado_direito)}\\n\")"
      ],
      "metadata": {
        "id": "E_m6kGHGF3sb",
        "outputId": "7138bfc8-96b0-466e-c5ff-eae5542e1b71",
        "colab": {
          "base_uri": "https://localhost:8080/"
        }
      },
      "execution_count": 13,
      "outputs": [
        {
          "output_type": "stream",
          "name": "stdout",
          "text": [
            "Exemplo: -3 * 1 = -3\n",
            "→ -3 = -3 True\n",
            "\n"
          ]
        }
      ]
    },
    {
      "cell_type": "markdown",
      "source": [
        "Distributividade da multiplicação por escalar em relação à adição de vetores."
      ],
      "metadata": {
        "id": "5ea4p2A7F5M4"
      }
    },
    {
      "cell_type": "code",
      "source": [
        "a, b, c = np.random.randint(-9, 10), np.random.randint(-9, 10), np.random.randint(-9, 10)\n",
        "\n",
        "print(f\"Exemplo: {a} x ({b} + {c}) = {a} x {b} + {a} x {c}\")\n",
        "\n",
        "lado_esquerdo = a * (b + c)\n",
        "lado_direito = a * b + a * c\n",
        "\n",
        "print(f\"→ {lado_direito} = {lado_esquerdo} {(lado_esquerdo == lado_direito)}\\n\")"
      ],
      "metadata": {
        "id": "-aIs0boIF6m0",
        "outputId": "ff27f0e4-a770-4fc9-ad2f-7a158d453aa7",
        "colab": {
          "base_uri": "https://localhost:8080/"
        }
      },
      "execution_count": 14,
      "outputs": [
        {
          "output_type": "stream",
          "name": "stdout",
          "text": [
            "Exemplo: 2 x (-8 + -3) = 2 x -8 + 2 x -3\n",
            "→ -22 = -22 True\n",
            "\n"
          ]
        }
      ]
    },
    {
      "cell_type": "markdown",
      "source": [
        "Distributividade da multiplicação por escalar em relação a adição do corpo."
      ],
      "metadata": {
        "id": "-iaos37wF74X"
      }
    },
    {
      "cell_type": "code",
      "source": [
        "a, b, c = np.random.randint(-9, 10), np.random.randint(-9, 10), np.random.randint(-9, 10)\n",
        "\n",
        "print(f\"Exemplo: ({a} + {b}) x {c} = {a} x {c} + {b} x {c}\")\n",
        "\n",
        "lado_esquerdo = (a + b) * c\n",
        "lado_direito = a * c + b * c\n",
        "\n",
        "print(f\"→ {lado_direito} = {lado_esquerdo} {(lado_esquerdo == lado_direito)}\\n\")"
      ],
      "metadata": {
        "id": "FlBj8RRsF9FR",
        "outputId": "3dbcda6c-ae0b-4b74-82a2-1866e35340f4",
        "colab": {
          "base_uri": "https://localhost:8080/"
        }
      },
      "execution_count": 15,
      "outputs": [
        {
          "output_type": "stream",
          "name": "stdout",
          "text": [
            "Exemplo: (-6 + -3) x -4 = -6 x -4 + -3 x -4\n",
            "→ 36 = 36 True\n",
            "\n"
          ]
        }
      ]
    }
  ]
}